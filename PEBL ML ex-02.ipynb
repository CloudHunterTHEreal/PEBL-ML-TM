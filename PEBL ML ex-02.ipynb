{
 "cells": [
  {
   "cell_type": "code",
   "execution_count": 1,
   "metadata": {},
   "outputs": [],
   "source": [
    "import pandas as pd\n",
    "import numpy as np\n",
    "import time\n",
    "from src.peblMl import *\n",
    "from sklearn.metrics import confusion_matrix\n",
    "\n",
    "import matplotlib.pyplot as plt\n",
    "from pandas_ml import ConfusionMatrix as CM2\n",
    "from sklearn.metrics import classification_report"
   ]
  },
  {
   "cell_type": "code",
   "execution_count": 2,
   "metadata": {},
   "outputs": [
    {
     "name": "stdout",
     "output_type": "stream",
     "text": [
      "7510 595\n",
      "Train Data: \n",
      " политика    376\n",
      "россия      219\n",
      "Name: topic, dtype: int64\n",
      "Test Data: \n",
      " other       7353\n",
      "политика      79\n",
      "россия        78\n",
      "Name: topic, dtype: int64\n",
      "Wall time: 619 ms\n"
     ]
    }
   ],
   "source": [
    "%%time\n",
    "data_start=pd.read_pickle('data/wikiNews.pkl')\n",
    "data_train=data_start[:3000]\n",
    "data_test=data_start[3000:]\n",
    "#data_test=data_test[data_test['topic'].isin(['политика', 'россия', 'европа', 'футбол', 'спорт', 'астрономия', 'other'])]\n",
    "data_test=data_test[data_test['topic'].isin(['политика', 'россия', 'other'])]\n",
    "#data_train=data_train[~data_train['topic'].isin(['other'])]\n",
    "#data_train=data_train[data_train['topic'].isin(['политика', 'россия', 'европа', 'футбол', 'спорт', 'астрономия'])]\n",
    "data_train=data_train[data_train['topic'].isin(['политика', 'россия'])]\n",
    "print (len(data_test), len(data_train))\n",
    "print ('Train Data: \\n', data_train['topic'].value_counts())\n",
    "print ('Test Data: \\n', data_test['topic'].value_counts())"
   ]
  },
  {
   "cell_type": "code",
   "execution_count": 3,
   "metadata": {},
   "outputs": [
    {
     "name": "stdout",
     "output_type": "stream",
     "text": [
      "157 595\n"
     ]
    }
   ],
   "source": [
    "d_t=data_test[~data_test['topic'].isin(['other'])]\n",
    "print (len(d_t), len(data_train))"
   ]
  },
  {
   "cell_type": "code",
   "execution_count": 4,
   "metadata": {},
   "outputs": [
    {
     "data": {
      "text/html": [
       "<div>\n",
       "<style scoped>\n",
       "    .dataframe tbody tr th:only-of-type {\n",
       "        vertical-align: middle;\n",
       "    }\n",
       "\n",
       "    .dataframe tbody tr th {\n",
       "        vertical-align: top;\n",
       "    }\n",
       "\n",
       "    .dataframe thead th {\n",
       "        text-align: right;\n",
       "    }\n",
       "</style>\n",
       "<table border=\"1\" class=\"dataframe\">\n",
       "  <thead>\n",
       "    <tr style=\"text-align: right;\">\n",
       "      <th></th>\n",
       "      <th>Noun</th>\n",
       "      <th>Text</th>\n",
       "      <th>category</th>\n",
       "      <th>topic</th>\n",
       "      <th>date_news</th>\n",
       "    </tr>\n",
       "  </thead>\n",
       "  <tbody>\n",
       "    <tr>\n",
       "      <th>1520</th>\n",
       "      <td>ангел меркель германия германия женщина правит...</td>\n",
       "      <td>ангела меркель канцлер германии германия она п...</td>\n",
       "      <td>ангела_меркель христианско_демократический_сою...</td>\n",
       "      <td>политика</td>\n",
       "      <td>2005-11-01</td>\n",
       "    </tr>\n",
       "    <tr>\n",
       "      <th>1531</th>\n",
       "      <td>ограничение технология доставка мкс состояние ...</td>\n",
       "      <td>ограничения закупку космических технологий кос...</td>\n",
       "      <td>космонавтика мкс политика_сша джордж_уокер_буш...</td>\n",
       "      <td>политика</td>\n",
       "      <td>2005-11-01</td>\n",
       "    </tr>\n",
       "    <tr>\n",
       "      <th>1588</th>\n",
       "      <td>штайнмайер время встреча министр wсша wкондоли...</td>\n",
       "      <td>визит штайнмайера сша сшаво время встречи новы...</td>\n",
       "      <td>германия сша политика кондолиза_райс цру</td>\n",
       "      <td>политика</td>\n",
       "      <td>2005-11-01</td>\n",
       "    </tr>\n",
       "    <tr>\n",
       "      <th>1676</th>\n",
       "      <td>телеканал суббота wтелеканал телеканал мир цел...</td>\n",
       "      <td>вещание телеканал today культурав субботу веща...</td>\n",
       "      <td>россия культура телевидение маргарита_симоньян...</td>\n",
       "      <td>россия</td>\n",
       "      <td>2005-11-01</td>\n",
       "    </tr>\n",
       "    <tr>\n",
       "      <th>1499</th>\n",
       "      <td>правительство германия берлин ноябрь кандидат ...</td>\n",
       "      <td>канцлер новое правительство германии берлин но...</td>\n",
       "      <td>политика христианско_демократический_союз_герм...</td>\n",
       "      <td>политика</td>\n",
       "      <td>2005-11-01</td>\n",
       "    </tr>\n",
       "  </tbody>\n",
       "</table>\n",
       "</div>"
      ],
      "text/plain": [
       "                                                   Noun  \\\n",
       "1520  ангел меркель германия германия женщина правит...   \n",
       "1531  ограничение технология доставка мкс состояние ...   \n",
       "1588  штайнмайер время встреча министр wсша wкондоли...   \n",
       "1676  телеканал суббота wтелеканал телеканал мир цел...   \n",
       "1499  правительство германия берлин ноябрь кандидат ...   \n",
       "\n",
       "                                                   Text  \\\n",
       "1520  ангела меркель канцлер германии германия она п...   \n",
       "1531  ограничения закупку космических технологий кос...   \n",
       "1588  визит штайнмайера сша сшаво время встречи новы...   \n",
       "1676  вещание телеканал today культурав субботу веща...   \n",
       "1499  канцлер новое правительство германии берлин но...   \n",
       "\n",
       "                                               category     topic  date_news  \n",
       "1520  ангела_меркель христианско_демократический_сою...  политика 2005-11-01  \n",
       "1531  космонавтика мкс политика_сша джордж_уокер_буш...  политика 2005-11-01  \n",
       "1588           германия сша политика кондолиза_райс цру  политика 2005-11-01  \n",
       "1676  россия культура телевидение маргарита_симоньян...    россия 2005-11-01  \n",
       "1499  политика христианско_демократический_союз_герм...  политика 2005-11-01  "
      ]
     },
     "execution_count": 4,
     "metadata": {},
     "output_type": "execute_result"
    }
   ],
   "source": [
    "data_train.head()"
   ]
  },
  {
   "cell_type": "code",
   "execution_count": 5,
   "metadata": {},
   "outputs": [
    {
     "name": "stdout",
     "output_type": "stream",
     "text": [
      "Wall time: 124 ms\n"
     ]
    }
   ],
   "source": [
    "%%time\n",
    "modelML=peblMl()\n",
    "modelML.fit(data_train['Noun'].tolist(), data_train['topic'].tolist())"
   ]
  },
  {
   "cell_type": "code",
   "execution_count": 6,
   "metadata": {},
   "outputs": [],
   "source": [
    "ar_avg_prob=modelML.ProbTopicWord\n"
   ]
  },
  {
   "cell_type": "code",
   "execution_count": 7,
   "metadata": {},
   "outputs": [
    {
     "name": "stdout",
     "output_type": "stream",
     "text": [
      "2 6823\n"
     ]
    }
   ],
   "source": [
    "print (len(np.amax(ar_avg_prob, axis=1)), len(np.amax(ar_avg_prob, axis=0)))"
   ]
  },
  {
   "cell_type": "code",
   "execution_count": 8,
   "metadata": {},
   "outputs": [
    {
     "name": "stdout",
     "output_type": "stream",
     "text": [
      "[0.99969706 0.99978728] 0.9997421703993963 0.9997421703993963\n"
     ]
    }
   ],
   "source": [
    "print (np.amax(ar_avg_prob, axis=1), np.average(np.amax(ar_avg_prob, axis=1)), np.median(np.amax(ar_avg_prob, axis=1)))"
   ]
  },
  {
   "cell_type": "code",
   "execution_count": 9,
   "metadata": {},
   "outputs": [
    {
     "data": {
      "text/plain": [
       "политика    0.85962\n",
       "россия      0.14038\n",
       "newTopic    0.00000\n",
       "dtype: float64"
      ]
     },
     "execution_count": 9,
     "metadata": {},
     "output_type": "execute_result"
    }
   ],
   "source": [
    "modelML.predict(data_train['Noun'].tolist()[11], 'newTopic')[:10]"
   ]
  },
  {
   "cell_type": "code",
   "execution_count": 10,
   "metadata": {},
   "outputs": [
    {
     "name": "stdout",
     "output_type": "stream",
     "text": [
      "Wall time: 1min\n"
     ]
    }
   ],
   "source": [
    "%%time\n",
    "topicValueResult=pd.DataFrame(columns=['topicName', 'probValue', 'realTopic'])\n",
    "goodT=0\n",
    "wrongT=0\n",
    "i=0\n",
    "for testRow in data_test['Noun'].tolist():\n",
    "    result=modelML.predict(testRow, 'other')[:1]\n",
    "    topicValueResult=topicValueResult.append({'topicName': result.index[0], 'probValue': result.values[0], \n",
    "                                             'realTopic': data_test['topic'][i]}, ignore_index=True)\n",
    "    if result.index[0]!='other' and data_test['topic'][i]!='other':\n",
    "        #print (result.index[0], result.values[0], data_test['topic'][i])\n",
    "        goodT+=1\n",
    "    if data_test['topic'][i]!='other' and result.index[0]=='other':\n",
    "        wrongT+=1\n",
    "    i+=1\n",
    "    #if i%10==0:\n",
    "    #    print (result.index[0], result.values[0])\n"
   ]
  },
  {
   "cell_type": "code",
   "execution_count": 11,
   "metadata": {},
   "outputs": [
    {
     "name": "stdout",
     "output_type": "stream",
     "text": [
      "17 140\n"
     ]
    }
   ],
   "source": [
    "print (wrongT, goodT)"
   ]
  },
  {
   "cell_type": "code",
   "execution_count": 12,
   "metadata": {},
   "outputs": [
    {
     "data": {
      "text/html": [
       "<div>\n",
       "<style scoped>\n",
       "    .dataframe tbody tr th:only-of-type {\n",
       "        vertical-align: middle;\n",
       "    }\n",
       "\n",
       "    .dataframe tbody tr th {\n",
       "        vertical-align: top;\n",
       "    }\n",
       "\n",
       "    .dataframe thead th {\n",
       "        text-align: right;\n",
       "    }\n",
       "</style>\n",
       "<table border=\"1\" class=\"dataframe\">\n",
       "  <thead>\n",
       "    <tr style=\"text-align: right;\">\n",
       "      <th></th>\n",
       "      <th>topicName</th>\n",
       "      <th>probValue</th>\n",
       "      <th>realTopic</th>\n",
       "    </tr>\n",
       "  </thead>\n",
       "  <tbody>\n",
       "    <tr>\n",
       "      <th>0</th>\n",
       "      <td>other</td>\n",
       "      <td>0.429024</td>\n",
       "      <td>other</td>\n",
       "    </tr>\n",
       "    <tr>\n",
       "      <th>1</th>\n",
       "      <td>политика</td>\n",
       "      <td>0.488366</td>\n",
       "      <td>other</td>\n",
       "    </tr>\n",
       "    <tr>\n",
       "      <th>2</th>\n",
       "      <td>other</td>\n",
       "      <td>0.579363</td>\n",
       "      <td>other</td>\n",
       "    </tr>\n",
       "    <tr>\n",
       "      <th>3</th>\n",
       "      <td>политика</td>\n",
       "      <td>0.594189</td>\n",
       "      <td>other</td>\n",
       "    </tr>\n",
       "    <tr>\n",
       "      <th>4</th>\n",
       "      <td>other</td>\n",
       "      <td>0.491023</td>\n",
       "      <td>other</td>\n",
       "    </tr>\n",
       "  </tbody>\n",
       "</table>\n",
       "</div>"
      ],
      "text/plain": [
       "  topicName  probValue realTopic\n",
       "0     other   0.429024     other\n",
       "1  политика   0.488366     other\n",
       "2     other   0.579363     other\n",
       "3  политика   0.594189     other\n",
       "4     other   0.491023     other"
      ]
     },
     "execution_count": 12,
     "metadata": {},
     "output_type": "execute_result"
    }
   ],
   "source": [
    "topicValueResult.head() "
   ]
  },
  {
   "cell_type": "code",
   "execution_count": 13,
   "metadata": {},
   "outputs": [
    {
     "data": {
      "text/plain": [
       "политика    4605\n",
       "other       2425\n",
       "россия       480\n",
       "Name: topicName, dtype: int64"
      ]
     },
     "execution_count": 13,
     "metadata": {},
     "output_type": "execute_result"
    }
   ],
   "source": [
    "topicValueResult['topicName'].value_counts()"
   ]
  },
  {
   "cell_type": "code",
   "execution_count": 14,
   "metadata": {},
   "outputs": [
    {
     "data": {
      "text/plain": [
       "other       7353\n",
       "политика      79\n",
       "россия        78\n",
       "Name: realTopic, dtype: int64"
      ]
     },
     "execution_count": 14,
     "metadata": {},
     "output_type": "execute_result"
    }
   ],
   "source": [
    "topicValueResult['realTopic'].value_counts()"
   ]
  },
  {
   "cell_type": "code",
   "execution_count": 15,
   "metadata": {},
   "outputs": [
    {
     "data": {
      "text/html": [
       "<div>\n",
       "<style scoped>\n",
       "    .dataframe tbody tr th:only-of-type {\n",
       "        vertical-align: middle;\n",
       "    }\n",
       "\n",
       "    .dataframe tbody tr th {\n",
       "        vertical-align: top;\n",
       "    }\n",
       "\n",
       "    .dataframe thead th {\n",
       "        text-align: right;\n",
       "    }\n",
       "</style>\n",
       "<table border=\"1\" class=\"dataframe\">\n",
       "  <thead>\n",
       "    <tr style=\"text-align: right;\">\n",
       "      <th></th>\n",
       "      <th>probValue</th>\n",
       "    </tr>\n",
       "    <tr>\n",
       "      <th>topicName</th>\n",
       "      <th></th>\n",
       "    </tr>\n",
       "  </thead>\n",
       "  <tbody>\n",
       "    <tr>\n",
       "      <th>other</th>\n",
       "      <td>1201.341028</td>\n",
       "    </tr>\n",
       "    <tr>\n",
       "      <th>политика</th>\n",
       "      <td>2313.734750</td>\n",
       "    </tr>\n",
       "    <tr>\n",
       "      <th>россия</th>\n",
       "      <td>202.219094</td>\n",
       "    </tr>\n",
       "  </tbody>\n",
       "</table>\n",
       "</div>"
      ],
      "text/plain": [
       "             probValue\n",
       "topicName             \n",
       "other      1201.341028\n",
       "политика   2313.734750\n",
       "россия      202.219094"
      ]
     },
     "execution_count": 15,
     "metadata": {},
     "output_type": "execute_result"
    }
   ],
   "source": [
    "topicValueResult.groupby(['topicName']).sum()"
   ]
  },
  {
   "cell_type": "code",
   "execution_count": 17,
   "metadata": {
    "scrolled": false
   },
   "outputs": [
    {
     "name": "stdout",
     "output_type": "stream",
     "text": [
      "Topic \n",
      " OrderedDict([('cm', Predicted  other  политика  россия  __all__\n",
      "Actual                                     \n",
      "other       2408      4483     462     7353\n",
      "политика       0        78       1       79\n",
      "россия        17        44      17       78\n",
      "__all__     2425      4605     480     7510), ('overall', OrderedDict([('Accuracy', 0.33328894806924103), ('95% CI', (0.3226275340847298, 0.3440798974367023)), ('No Information Rate', 'ToDo'), ('P-Value [Acc > NIR]', 0.9999999999999999), ('Kappa', 0.014810112387811313), (\"Mcnemar's Test P-Value\", 'ToDo')])), ('class', Classes                                     other     политика     россия\n",
      "Population                                   7510         7510       7510\n",
      "P: Condition positive                        7353           79         78\n",
      "N: Condition negative                         157         7431       7432\n",
      "Test outcome positive                        2425         4605        480\n",
      "Test outcome negative                        5085         2905       7030\n",
      "TP: True Positive                            2408           78         17\n",
      "TN: True Negative                             140         2904       6969\n",
      "FP: False Positive                             17         4527        463\n",
      "FN: False Negative                           4945            1         61\n",
      "TPR: (Sensitivity, hit rate, recall)     0.327485     0.987342   0.217949\n",
      "TNR=SPC: (Specificity)                    0.89172     0.390795   0.937702\n",
      "PPV: Pos Pred Value (Precision)           0.99299    0.0169381  0.0354167\n",
      "NPV: Neg Pred Value                      0.027532     0.999656   0.991323\n",
      "FPR: False-out                            0.10828     0.609205  0.0622982\n",
      "FDR: False Discovery Rate              0.00701031     0.983062   0.964583\n",
      "FNR: Miss Rate                           0.672515    0.0126582   0.782051\n",
      "ACC: Accuracy                            0.339281     0.397071   0.930226\n",
      "F1 score                                 0.492534    0.0333049  0.0609319\n",
      "MCC: Matthews correlation coefficient   0.0670705    0.0792134  0.0645138\n",
      "Informedness                             0.219205     0.378137   0.155651\n",
      "Markedness                              0.0205216    0.0165939  0.0267396\n",
      "Prevalence                               0.979095    0.0105193  0.0103862\n",
      "LR+: Positive likelihood ratio            3.02442      1.62071    3.49848\n",
      "LR-: Negative likelihood ratio           0.754177    0.0323909   0.834008\n",
      "DOR: Diagnostic odds ratio                4.01023      50.0358    4.19477\n",
      "FOR: False omission rate                 0.972468  0.000344234  0.0086771)])\n"
     ]
    },
    {
     "data": {
      "image/png": "[encoded data removed]",
      "text/plain": [
       "<matplotlib.figure.Figure at 0x1ef14f7ef98>"
      ]
     },
     "metadata": {},
     "output_type": "display_data"
    },
    {
     "name": "stdout",
     "output_type": "stream",
     "text": [
      "             precision    recall  f1-score   support\n",
      "\n",
      "   политика       0.02      0.99      0.03        79\n",
      "     россия       0.04      0.22      0.06        78\n",
      "      other       0.99      0.33      0.49      7353\n",
      "\n",
      "avg / total       0.97      0.33      0.48      7510\n",
      "\n"
     ]
    }
   ],
   "source": [
    "print ('Topic \\n', CM2(topicValueResult['realTopic'], topicValueResult['topicName']).stats())\n",
    "CM2(topicValueResult['realTopic'], topicValueResult['topicName']).plot(normalized=True)\n",
    "plt.show()\n",
    "print(classification_report(topicValueResult['realTopic'], topicValueResult['topicName'], labels=['политика', 'россия', 'other']))\n"
   ]
  },
  {
   "cell_type": "code",
   "execution_count": null,
   "metadata": {},
   "outputs": [],
   "source": []
  }
 ],
 "metadata": {
  "kernelspec": {
   "display_name": "Python 3",
   "language": "python",
   "name": "python3"
  },
  "language_info": {
   "codemirror_mode": {
    "name": "ipython",
    "version": 3
   },
   "file_extension": ".py",
   "mimetype": "text/x-python",
   "name": "python",
   "nbconvert_exporter": "python",
   "pygments_lexer": "ipython3",
   "version": "3.6.4"
  }
 },
 "nbformat": 4,
 "nbformat_minor": 2
}
