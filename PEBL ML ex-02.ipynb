{
 "cells": [
  {
   "cell_type": "code",
   "execution_count": 4,
   "metadata": {},
   "outputs": [],
   "source": [
    "import pandas as pd\n",
    "import numpy as np\n",
    "import time\n",
    "from src.peblMl import *\n",
    "from sklearn.metrics import confusion_matrix\n",
    "\n",
    "import matplotlib.pyplot as plt\n",
    "from pandas_ml import ConfusionMatrix as CM2\n",
    "from sklearn.metrics import classification_report"
   ]
  },
  {
   "cell_type": "code",
   "execution_count": 21,
   "metadata": {},
   "outputs": [
    {
     "name": "stdout",
     "output_type": "stream",
     "text": [
      "7606 831\n",
      "Train Data: \n",
      " политика      376\n",
      "россия        219\n",
      "европа        125\n",
      "спорт          62\n",
      "астрономия     28\n",
      "футбол         21\n",
      "Name: topic, dtype: int64\n",
      "Test Data: \n",
      " other         7353\n",
      "политика        79\n",
      "россия          78\n",
      "спорт           40\n",
      "европа          26\n",
      "футбол          24\n",
      "астрономия       6\n",
      "Name: topic, dtype: int64\n",
      "Wall time: 137 ms\n"
     ]
    }
   ],
   "source": [
    "%%time\n",
    "data_start=pd.read_pickle('data/wikiNews.pkl')\n",
    "data_train=data_start[:3000]\n",
    "data_test=data_start[3000:]\n",
    "data_test=data_test[data_test['topic'].isin(['политика', 'россия', 'европа', 'футбол', 'спорт', 'астрономия', 'other'])]\n",
    "#data_train=data_train[~data_train['topic'].isin(['other'])]\n",
    "data_train=data_train[data_train['topic'].isin(['политика', 'россия', 'европа', 'футбол', 'спорт', 'астрономия'])]\n",
    "print (len(data_test), len(data_train))\n",
    "print ('Train Data: \\n', data_train['topic'].value_counts())\n",
    "print ('Test Data: \\n', data_test['topic'].value_counts())"
   ]
  },
  {
   "cell_type": "code",
   "execution_count": 22,
   "metadata": {},
   "outputs": [
    {
     "name": "stdout",
     "output_type": "stream",
     "text": [
      "253 831\n"
     ]
    }
   ],
   "source": [
    "d_t=data_test[~data_test['topic'].isin(['other'])]\n",
    "print (len(d_t), len(data_train))"
   ]
  },
  {
   "cell_type": "code",
   "execution_count": 23,
   "metadata": {},
   "outputs": [
    {
     "data": {
      "text/html": [
       "<div>\n",
       "<style scoped>\n",
       "    .dataframe tbody tr th:only-of-type {\n",
       "        vertical-align: middle;\n",
       "    }\n",
       "\n",
       "    .dataframe tbody tr th {\n",
       "        vertical-align: top;\n",
       "    }\n",
       "\n",
       "    .dataframe thead th {\n",
       "        text-align: right;\n",
       "    }\n",
       "</style>\n",
       "<table border=\"1\" class=\"dataframe\">\n",
       "  <thead>\n",
       "    <tr style=\"text-align: right;\">\n",
       "      <th></th>\n",
       "      <th>Noun</th>\n",
       "      <th>Text</th>\n",
       "      <th>category</th>\n",
       "      <th>topic</th>\n",
       "      <th>date_news</th>\n",
       "    </tr>\n",
       "  </thead>\n",
       "  <tbody>\n",
       "    <tr>\n",
       "      <th>1520</th>\n",
       "      <td>ангел меркель германия германия женщина правит...</td>\n",
       "      <td>ангела меркель канцлер германии германия она п...</td>\n",
       "      <td>ангела_меркель христианско_демократический_сою...</td>\n",
       "      <td>политика</td>\n",
       "      <td>2005-11-01</td>\n",
       "    </tr>\n",
       "    <tr>\n",
       "      <th>1527</th>\n",
       "      <td>атака ноябрь страница атака домен машина гугл ...</td>\n",
       "      <td>атака гугл данным компании ноября предпринята ...</td>\n",
       "      <td>google швейцария европа интернет хакерские_ата...</td>\n",
       "      <td>европа</td>\n",
       "      <td>2005-11-01</td>\n",
       "    </tr>\n",
       "    <tr>\n",
       "      <th>1531</th>\n",
       "      <td>ограничение технология доставка мкс состояние ...</td>\n",
       "      <td>ограничения закупку космических технологий кос...</td>\n",
       "      <td>космонавтика мкс политика_сша джордж_уокер_буш...</td>\n",
       "      <td>политика</td>\n",
       "      <td>2005-11-01</td>\n",
       "    </tr>\n",
       "    <tr>\n",
       "      <th>1548</th>\n",
       "      <td>грунт астероид агентство цель миссия зонд хайя...</td>\n",
       "      <td>межпланетный зонд пробы грунта поверхности аст...</td>\n",
       "      <td>япония астрономия астероиды</td>\n",
       "      <td>астрономия</td>\n",
       "      <td>2005-11-01</td>\n",
       "    </tr>\n",
       "    <tr>\n",
       "      <th>1588</th>\n",
       "      <td>штайнмайер время встреча министр wсша wкондоли...</td>\n",
       "      <td>визит штайнмайера сша сшаво время встречи новы...</td>\n",
       "      <td>германия сша политика кондолиза_райс цру</td>\n",
       "      <td>политика</td>\n",
       "      <td>2005-11-01</td>\n",
       "    </tr>\n",
       "  </tbody>\n",
       "</table>\n",
       "</div>"
      ],
      "text/plain": [
       "                                                   Noun  \\\n",
       "1520  ангел меркель германия германия женщина правит...   \n",
       "1527  атака ноябрь страница атака домен машина гугл ...   \n",
       "1531  ограничение технология доставка мкс состояние ...   \n",
       "1548  грунт астероид агентство цель миссия зонд хайя...   \n",
       "1588  штайнмайер время встреча министр wсша wкондоли...   \n",
       "\n",
       "                                                   Text  \\\n",
       "1520  ангела меркель канцлер германии германия она п...   \n",
       "1527  атака гугл данным компании ноября предпринята ...   \n",
       "1531  ограничения закупку космических технологий кос...   \n",
       "1548  межпланетный зонд пробы грунта поверхности аст...   \n",
       "1588  визит штайнмайера сша сшаво время встречи новы...   \n",
       "\n",
       "                                               category       topic  date_news  \n",
       "1520  ангела_меркель христианско_демократический_сою...    политика 2005-11-01  \n",
       "1527  google швейцария европа интернет хакерские_ата...      европа 2005-11-01  \n",
       "1531  космонавтика мкс политика_сша джордж_уокер_буш...    политика 2005-11-01  \n",
       "1548                        япония астрономия астероиды  астрономия 2005-11-01  \n",
       "1588           германия сша политика кондолиза_райс цру    политика 2005-11-01  "
      ]
     },
     "execution_count": 23,
     "metadata": {},
     "output_type": "execute_result"
    }
   ],
   "source": [
    "data_train.head()"
   ]
  },
  {
   "cell_type": "code",
   "execution_count": 24,
   "metadata": {},
   "outputs": [
    {
     "name": "stdout",
     "output_type": "stream",
     "text": [
      "Wall time: 210 ms\n"
     ]
    }
   ],
   "source": [
    "%%time\n",
    "modelML=peblMl()\n",
    "modelML.fit(data_train['Noun'].tolist(), data_train['topic'].tolist())"
   ]
  },
  {
   "cell_type": "code",
   "execution_count": 25,
   "metadata": {},
   "outputs": [],
   "source": [
    "ar_avg_prob=modelML.ProbTopicWord\n"
   ]
  },
  {
   "cell_type": "code",
   "execution_count": 26,
   "metadata": {},
   "outputs": [
    {
     "name": "stdout",
     "output_type": "stream",
     "text": [
      "6 9144\n"
     ]
    }
   ],
   "source": [
    "print (len(np.amax(ar_avg_prob, axis=1)), len(np.amax(ar_avg_prob, axis=0)))"
   ]
  },
  {
   "cell_type": "code",
   "execution_count": 27,
   "metadata": {},
   "outputs": [
    {
     "name": "stdout",
     "output_type": "stream",
     "text": [
      "[0.999001   0.99966678 0.99961553 0.99937539 0.99944475 0.99960016] 0.9994506020768901 0.9995224564255363\n"
     ]
    }
   ],
   "source": [
    "print (np.amax(ar_avg_prob, axis=1), np.average(np.amax(ar_avg_prob, axis=1)), np.median(np.amax(ar_avg_prob, axis=1)))"
   ]
  },
  {
   "cell_type": "code",
   "execution_count": 28,
   "metadata": {},
   "outputs": [
    {
     "data": {
      "text/plain": [
       "политика      0.855670\n",
       "россия        0.083699\n",
       "спорт         0.044642\n",
       "европа        0.008166\n",
       "футбол        0.007823\n",
       "астрономия    0.000000\n",
       "newTopic      0.000000\n",
       "dtype: float64"
      ]
     },
     "execution_count": 28,
     "metadata": {},
     "output_type": "execute_result"
    }
   ],
   "source": [
    "modelML.predict(data_train['Noun'].tolist()[11], 'newTopic')[:10]"
   ]
  },
  {
   "cell_type": "code",
   "execution_count": 29,
   "metadata": {},
   "outputs": [
    {
     "name": "stdout",
     "output_type": "stream",
     "text": [
      "Wall time: 1min 4s\n"
     ]
    }
   ],
   "source": [
    "%%time\n",
    "topicValueResult=pd.DataFrame(columns=['topicName', 'probValue', 'realTopic'])\n",
    "goodT=0\n",
    "wrongT=0\n",
    "i=0\n",
    "for testRow in data_test['Noun'].tolist():\n",
    "    result=modelML.predict(testRow, 'other')[:1]\n",
    "    topicValueResult=topicValueResult.append({'topicName': result.index[0], 'probValue': result.values[0], \n",
    "                                             'realTopic': data_test['topic'][i]}, ignore_index=True)\n",
    "    if result.index[0]!='other' and data_test['topic'][i]!='other':\n",
    "        #print (result.index[0], result.values[0], data_test['topic'][i])\n",
    "        goodT+=1\n",
    "    if data_test['topic'][i]!='other' and result.index[0]=='other':\n",
    "        wrongT+=1\n",
    "    i+=1\n",
    "    #if i%10==0:\n",
    "    #    print (result.index[0], result.values[0])\n"
   ]
  },
  {
   "cell_type": "code",
   "execution_count": 30,
   "metadata": {},
   "outputs": [
    {
     "name": "stdout",
     "output_type": "stream",
     "text": [
      "72 181\n"
     ]
    }
   ],
   "source": [
    "print (wrongT, goodT)"
   ]
  },
  {
   "cell_type": "code",
   "execution_count": 31,
   "metadata": {},
   "outputs": [
    {
     "data": {
      "text/html": [
       "<div>\n",
       "<style scoped>\n",
       "    .dataframe tbody tr th:only-of-type {\n",
       "        vertical-align: middle;\n",
       "    }\n",
       "\n",
       "    .dataframe tbody tr th {\n",
       "        vertical-align: top;\n",
       "    }\n",
       "\n",
       "    .dataframe thead th {\n",
       "        text-align: right;\n",
       "    }\n",
       "</style>\n",
       "<table border=\"1\" class=\"dataframe\">\n",
       "  <thead>\n",
       "    <tr style=\"text-align: right;\">\n",
       "      <th></th>\n",
       "      <th>topicName</th>\n",
       "      <th>probValue</th>\n",
       "      <th>realTopic</th>\n",
       "    </tr>\n",
       "  </thead>\n",
       "  <tbody>\n",
       "    <tr>\n",
       "      <th>0</th>\n",
       "      <td>other</td>\n",
       "      <td>0.428798</td>\n",
       "      <td>other</td>\n",
       "    </tr>\n",
       "    <tr>\n",
       "      <th>1</th>\n",
       "      <td>политика</td>\n",
       "      <td>0.374740</td>\n",
       "      <td>other</td>\n",
       "    </tr>\n",
       "    <tr>\n",
       "      <th>2</th>\n",
       "      <td>other</td>\n",
       "      <td>0.421554</td>\n",
       "      <td>other</td>\n",
       "    </tr>\n",
       "    <tr>\n",
       "      <th>3</th>\n",
       "      <td>политика</td>\n",
       "      <td>0.447759</td>\n",
       "      <td>other</td>\n",
       "    </tr>\n",
       "    <tr>\n",
       "      <th>4</th>\n",
       "      <td>other</td>\n",
       "      <td>0.373142</td>\n",
       "      <td>other</td>\n",
       "    </tr>\n",
       "  </tbody>\n",
       "</table>\n",
       "</div>"
      ],
      "text/plain": [
       "  topicName  probValue realTopic\n",
       "0     other   0.428798     other\n",
       "1  политика   0.374740     other\n",
       "2     other   0.421554     other\n",
       "3  политика   0.447759     other\n",
       "4     other   0.373142     other"
      ]
     },
     "execution_count": 31,
     "metadata": {},
     "output_type": "execute_result"
    }
   ],
   "source": [
    "topicValueResult.head() "
   ]
  },
  {
   "cell_type": "code",
   "execution_count": 32,
   "metadata": {},
   "outputs": [
    {
     "data": {
      "text/plain": [
       "политика      3818\n",
       "other         3389\n",
       "россия         226\n",
       "европа         117\n",
       "астрономия      27\n",
       "спорт           24\n",
       "футбол           5\n",
       "Name: topicName, dtype: int64"
      ]
     },
     "execution_count": 32,
     "metadata": {},
     "output_type": "execute_result"
    }
   ],
   "source": [
    "topicValueResult['topicName'].value_counts()"
   ]
  },
  {
   "cell_type": "code",
   "execution_count": 33,
   "metadata": {},
   "outputs": [
    {
     "data": {
      "text/plain": [
       "other         7353\n",
       "политика        79\n",
       "россия          78\n",
       "спорт           40\n",
       "европа          26\n",
       "футбол          24\n",
       "астрономия       6\n",
       "Name: realTopic, dtype: int64"
      ]
     },
     "execution_count": 33,
     "metadata": {},
     "output_type": "execute_result"
    }
   ],
   "source": [
    "topicValueResult['realTopic'].value_counts()"
   ]
  },
  {
   "cell_type": "code",
   "execution_count": 34,
   "metadata": {},
   "outputs": [
    {
     "data": {
      "text/html": [
       "<div>\n",
       "<style scoped>\n",
       "    .dataframe tbody tr th:only-of-type {\n",
       "        vertical-align: middle;\n",
       "    }\n",
       "\n",
       "    .dataframe tbody tr th {\n",
       "        vertical-align: top;\n",
       "    }\n",
       "\n",
       "    .dataframe thead th {\n",
       "        text-align: right;\n",
       "    }\n",
       "</style>\n",
       "<table border=\"1\" class=\"dataframe\">\n",
       "  <thead>\n",
       "    <tr style=\"text-align: right;\">\n",
       "      <th></th>\n",
       "      <th>probValue</th>\n",
       "    </tr>\n",
       "    <tr>\n",
       "      <th>topicName</th>\n",
       "      <th></th>\n",
       "    </tr>\n",
       "  </thead>\n",
       "  <tbody>\n",
       "    <tr>\n",
       "      <th>other</th>\n",
       "      <td>1416.008297</td>\n",
       "    </tr>\n",
       "    <tr>\n",
       "      <th>астрономия</th>\n",
       "      <td>8.616820</td>\n",
       "    </tr>\n",
       "    <tr>\n",
       "      <th>европа</th>\n",
       "      <td>35.424305</td>\n",
       "    </tr>\n",
       "    <tr>\n",
       "      <th>политика</th>\n",
       "      <td>1516.279628</td>\n",
       "    </tr>\n",
       "    <tr>\n",
       "      <th>россия</th>\n",
       "      <td>67.395497</td>\n",
       "    </tr>\n",
       "    <tr>\n",
       "      <th>спорт</th>\n",
       "      <td>6.932128</td>\n",
       "    </tr>\n",
       "    <tr>\n",
       "      <th>футбол</th>\n",
       "      <td>1.592192</td>\n",
       "    </tr>\n",
       "  </tbody>\n",
       "</table>\n",
       "</div>"
      ],
      "text/plain": [
       "              probValue\n",
       "topicName              \n",
       "other       1416.008297\n",
       "астрономия     8.616820\n",
       "европа        35.424305\n",
       "политика    1516.279628\n",
       "россия        67.395497\n",
       "спорт          6.932128\n",
       "футбол         1.592192"
      ]
     },
     "execution_count": 34,
     "metadata": {},
     "output_type": "execute_result"
    }
   ],
   "source": [
    "topicValueResult.groupby(['topicName']).sum()"
   ]
  },
  {
   "cell_type": "code",
   "execution_count": 36,
   "metadata": {
    "scrolled": false
   },
   "outputs": [
    {
     "name": "stdout",
     "output_type": "stream",
     "text": [
      "Topic \n",
      " OrderedDict([('cm', Predicted   other  астрономия  европа  политика  россия  спорт  футбол  \\\n",
      "Actual                                                                   \n",
      "other        3317          25     113      3667     208     18       5   \n",
      "астрономия      2           2       0         2       0      0       0   \n",
      "европа         14           0       1         8       3      0       0   \n",
      "политика        5           0       1        72       1      0       0   \n",
      "россия         18           0       0        46       9      5       0   \n",
      "спорт          21           0       0        16       3      0       0   \n",
      "футбол         12           0       2         7       2      1       0   \n",
      "__all__      3389          27     117      3818     226     24       5   \n",
      "\n",
      "Predicted   __all__  \n",
      "Actual               \n",
      "other          7353  \n",
      "астрономия        6  \n",
      "европа           26  \n",
      "политика         79  \n",
      "россия           78  \n",
      "спорт            40  \n",
      "футбол           24  \n",
      "__all__        7606  ), ('overall', OrderedDict([('Accuracy', 0.4471469892190376), ('95% CI', (0.43592953356013736, 0.4584049745456311)), ('No Information Rate', 'ToDo'), ('P-Value [Acc > NIR]', 0.9999999999999999), ('Kappa', 0.01917160264146784), (\"Mcnemar's Test P-Value\", 'ToDo')])), ('class', Classes                                    other   астрономия      европа  \\\n",
      "Population                                  7606         7606        7606   \n",
      "P: Condition positive                       7353            6          26   \n",
      "N: Condition negative                        253         7600        7580   \n",
      "Test outcome positive                       3389           27         117   \n",
      "Test outcome negative                       4217         7579        7489   \n",
      "TP: True Positive                           3317            2           1   \n",
      "TN: True Negative                            181         7575        7464   \n",
      "FP: False Positive                            72           25         116   \n",
      "FN: False Negative                          4036            4          25   \n",
      "TPR: (Sensitivity, hit rate, recall)    0.451108     0.333333   0.0384615   \n",
      "TNR=SPC: (Specificity)                  0.715415     0.996711    0.984697   \n",
      "PPV: Pos Pred Value (Precision)         0.978755    0.0740741  0.00854701   \n",
      "NPV: Neg Pred Value                    0.0429215     0.999472    0.996662   \n",
      "FPR: False-out                          0.284585   0.00328947   0.0153034   \n",
      "FDR: False Discovery Rate              0.0212452     0.925926    0.991453   \n",
      "FNR: Miss Rate                          0.548892     0.666667    0.961538   \n",
      "ACC: Accuracy                             0.4599     0.996187    0.981462   \n",
      "F1 score                                0.617576     0.121212    0.013986   \n",
      "MCC: Matthews correlation coefficient    0.06008       0.1558    0.010983   \n",
      "Informedness                            0.166523     0.330044   0.0231581   \n",
      "Markedness                             0.0216763    0.0735463  0.00520878   \n",
      "Prevalence                              0.966737  0.000788851  0.00341835   \n",
      "LR+: Positive likelihood ratio           1.58514      101.333     2.51326   \n",
      "LR-: Negative likelihood ratio          0.767235     0.668867    0.976482   \n",
      "DOR: Diagnostic odds ratio               2.06605        151.5     2.57379   \n",
      "FOR: False omission rate                0.957078  0.000527774  0.00333823   \n",
      "\n",
      "Classes                                  политика      россия       спорт  \\\n",
      "Population                                   7606        7606        7606   \n",
      "P: Condition positive                          79          78          40   \n",
      "N: Condition negative                        7527        7528        7566   \n",
      "Test outcome positive                        3818         226          24   \n",
      "Test outcome negative                        3788        7380        7582   \n",
      "TP: True Positive                              72           9           0   \n",
      "TN: True Negative                            3781        7311        7542   \n",
      "FP: False Positive                           3746         217          24   \n",
      "FN: False Negative                              7          69          40   \n",
      "TPR: (Sensitivity, hit rate, recall)     0.911392    0.115385           0   \n",
      "TNR=SPC: (Specificity)                   0.502325    0.971174    0.996828   \n",
      "PPV: Pos Pred Value (Precision)          0.018858    0.039823           0   \n",
      "NPV: Neg Pred Value                      0.998152     0.99065    0.994724   \n",
      "FPR: False-out                           0.497675   0.0288257  0.00317209   \n",
      "FDR: False Discovery Rate                0.981142    0.960177           1   \n",
      "FNR: Miss Rate                          0.0886076    0.884615           1   \n",
      "ACC: Accuracy                            0.506574    0.962398    0.991586   \n",
      "F1 score                                0.0369515   0.0592105           0   \n",
      "MCC: Matthews correlation coefficient   0.0838891    0.051359 -0.00409082   \n",
      "Informedness                             0.413717   0.0865589 -0.00317209   \n",
      "Markedness                              0.0170101   0.0304734 -0.00527565   \n",
      "Prevalence                              0.0103865   0.0102551  0.00525901   \n",
      "LR+: Positive likelihood ratio             1.8313     4.00284           0   \n",
      "LR-: Negative likelihood ratio           0.176395    0.910872     1.00318   \n",
      "DOR: Diagnostic odds ratio                10.3818     4.39451           0   \n",
      "FOR: False omission rate               0.00184794  0.00934959  0.00527565   \n",
      "\n",
      "Classes                                     футбол  \n",
      "Population                                    7606  \n",
      "P: Condition positive                           24  \n",
      "N: Condition negative                         7582  \n",
      "Test outcome positive                            5  \n",
      "Test outcome negative                         7601  \n",
      "TP: True Positive                                0  \n",
      "TN: True Negative                             7577  \n",
      "FP: False Positive                               5  \n",
      "FN: False Negative                              24  \n",
      "TPR: (Sensitivity, hit rate, recall)             0  \n",
      "TNR=SPC: (Specificity)                    0.999341  \n",
      "PPV: Pos Pred Value (Precision)                  0  \n",
      "NPV: Neg Pred Value                       0.996843  \n",
      "FPR: False-out                         0.000659457  \n",
      "FDR: False Discovery Rate                        1  \n",
      "FNR: Miss Rate                                   1  \n",
      "ACC: Accuracy                             0.996187  \n",
      "F1 score                                         0  \n",
      "MCC: Matthews correlation coefficient  -0.00144299  \n",
      "Informedness                          -0.000659457  \n",
      "Markedness                             -0.00315748  \n",
      "Prevalence                               0.0031554  \n",
      "LR+: Positive likelihood ratio                   0  \n",
      "LR-: Negative likelihood ratio             1.00066  \n",
      "DOR: Diagnostic odds ratio                       0  \n",
      "FOR: False omission rate                0.00315748  )])\n"
     ]
    },
    {
     "data": {
      "image/png": "[encoded data removed]",
      "text/plain": [
       "<matplotlib.figure.Figure at 0x299e22bff98>"
      ]
     },
     "metadata": {},
     "output_type": "display_data"
    },
    {
     "name": "stdout",
     "output_type": "stream",
     "text": [
      "             precision    recall  f1-score   support\n",
      "\n",
      "   политика       0.02      0.91      0.04        79\n",
      "     россия       0.04      0.12      0.06        78\n",
      "     европа       0.01      0.04      0.01        26\n",
      "     футбол       0.00      0.00      0.00        24\n",
      "      спорт       0.00      0.00      0.00        40\n",
      " астрономия       0.07      0.33      0.12         6\n",
      "      other       0.98      0.45      0.62      7353\n",
      "\n",
      "avg / total       0.95      0.45      0.60      7606\n",
      "\n"
     ]
    }
   ],
   "source": [
    "print ('Topic \\n', CM2(topicValueResult['realTopic'], topicValueResult['topicName']).stats())\n",
    "CM2(topicValueResult['realTopic'], topicValueResult['topicName']).plot(normalized=True)\n",
    "plt.show()\n",
    "print(classification_report(topicValueResult['realTopic'], topicValueResult['topicName'], labels=['политика', 'россия', 'европа', 'футбол', 'спорт', 'астрономия', 'other']))\n"
   ]
  },
  {
   "cell_type": "code",
   "execution_count": null,
   "metadata": {},
   "outputs": [],
   "source": []
  }
 ],
 "metadata": {
  "kernelspec": {
   "display_name": "Python 3",
   "language": "python",
   "name": "python3"
  },
  "language_info": {
   "codemirror_mode": {
    "name": "ipython",
    "version": 3
   },
   "file_extension": ".py",
   "mimetype": "text/x-python",
   "name": "python",
   "nbconvert_exporter": "python",
   "pygments_lexer": "ipython3",
   "version": "3.6.4"
  }
 },
 "nbformat": 4,
 "nbformat_minor": 2
}
