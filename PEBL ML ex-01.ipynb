{
 "cells": [
  {
   "cell_type": "code",
   "execution_count": 1,
   "metadata": {},
   "outputs": [],
   "source": [
    "import pandas as pd\n",
    "import numpy as np\n",
    "import time\n",
    "from src.peblMl import *"
   ]
  },
  {
   "cell_type": "code",
   "execution_count": 65,
   "metadata": {},
   "outputs": [
    {
     "name": "stdout",
     "output_type": "stream",
     "text": [
      "100 10000\n",
      "Wall time: 136 ms\n"
     ]
    }
   ],
   "source": [
    "%%time\n",
    "data_start=pd.read_pickle('data/wikiNews.pkl')\n",
    "data_train=data_start[:10000]\n",
    "data_test=data_start[10000:10100]\n",
    "#data_test=data_test[~data_test['topic'].isin(['other'])]\n",
    "#data_train=data_train[~data_train['topic'].isin(['other'])]\n",
    "print (len(data_test), len(data_train))"
   ]
  },
  {
   "cell_type": "code",
   "execution_count": 66,
   "metadata": {},
   "outputs": [
    {
     "data": {
      "text/html": [
       "<div>\n",
       "<style scoped>\n",
       "    .dataframe tbody tr th:only-of-type {\n",
       "        vertical-align: middle;\n",
       "    }\n",
       "\n",
       "    .dataframe tbody tr th {\n",
       "        vertical-align: top;\n",
       "    }\n",
       "\n",
       "    .dataframe thead th {\n",
       "        text-align: right;\n",
       "    }\n",
       "</style>\n",
       "<table border=\"1\" class=\"dataframe\">\n",
       "  <thead>\n",
       "    <tr style=\"text-align: right;\">\n",
       "      <th></th>\n",
       "      <th>Noun</th>\n",
       "      <th>Text</th>\n",
       "      <th>category</th>\n",
       "      <th>topic</th>\n",
       "      <th>date_news</th>\n",
       "    </tr>\n",
       "  </thead>\n",
       "  <tbody>\n",
       "    <tr>\n",
       "      <th>7376</th>\n",
       "      <td>мефодий год жизнь поэт член союз писатель росс...</td>\n",
       "      <td>владимир мефодьевич сегодня из пришло известие...</td>\n",
       "      <td>барнаул алтайский_край некрологи писатели росс...</td>\n",
       "      <td>россия, некрологи</td>\n",
       "      <td>2005-02-01</td>\n",
       "    </tr>\n",
       "    <tr>\n",
       "      <th>1349</th>\n",
       "      <td>россия премьерминистр украина разъяснение вним...</td>\n",
       "      <td>россия заявлениями премьерминистра украины хоч...</td>\n",
       "      <td>россия украина политика вто юрий_ехануров поли...</td>\n",
       "      <td>россия, украина, политика, европа</td>\n",
       "      <td>2005-11-01</td>\n",
       "    </tr>\n",
       "    <tr>\n",
       "      <th>1516</th>\n",
       "      <td>спортиспанияс человек гроссмейстер программа ч...</td>\n",
       "      <td>матч люди компьютеров спортиспанияс по ноября ...</td>\n",
       "      <td>фиде</td>\n",
       "      <td>other</td>\n",
       "      <td>2005-11-01</td>\n",
       "    </tr>\n",
       "    <tr>\n",
       "      <th>1520</th>\n",
       "      <td>ангел меркель германия германия женщина правит...</td>\n",
       "      <td>ангела меркель канцлер германии германия она п...</td>\n",
       "      <td>ангела_меркель христианско_демократический_сою...</td>\n",
       "      <td>политика</td>\n",
       "      <td>2005-11-01</td>\n",
       "    </tr>\n",
       "    <tr>\n",
       "      <th>1527</th>\n",
       "      <td>атака ноябрь страница атака домен машина гугл ...</td>\n",
       "      <td>атака гугл данным компании ноября предпринята ...</td>\n",
       "      <td>google швейцария европа интернет хакерские_ата...</td>\n",
       "      <td>европа</td>\n",
       "      <td>2005-11-01</td>\n",
       "    </tr>\n",
       "  </tbody>\n",
       "</table>\n",
       "</div>"
      ],
      "text/plain": [
       "                                                   Noun  \\\n",
       "7376  мефодий год жизнь поэт член союз писатель росс...   \n",
       "1349  россия премьерминистр украина разъяснение вним...   \n",
       "1516  спортиспанияс человек гроссмейстер программа ч...   \n",
       "1520  ангел меркель германия германия женщина правит...   \n",
       "1527  атака ноябрь страница атака домен машина гугл ...   \n",
       "\n",
       "                                                   Text  \\\n",
       "7376  владимир мефодьевич сегодня из пришло известие...   \n",
       "1349  россия заявлениями премьерминистра украины хоч...   \n",
       "1516  матч люди компьютеров спортиспанияс по ноября ...   \n",
       "1520  ангела меркель канцлер германии германия она п...   \n",
       "1527  атака гугл данным компании ноября предпринята ...   \n",
       "\n",
       "                                               category  \\\n",
       "7376  барнаул алтайский_край некрологи писатели росс...   \n",
       "1349  россия украина политика вто юрий_ехануров поли...   \n",
       "1516                                               фиде   \n",
       "1520  ангела_меркель христианско_демократический_сою...   \n",
       "1527  google швейцария европа интернет хакерские_ата...   \n",
       "\n",
       "                                  topic  date_news  \n",
       "7376                  россия, некрологи 2005-02-01  \n",
       "1349  россия, украина, политика, европа 2005-11-01  \n",
       "1516                              other 2005-11-01  \n",
       "1520                           политика 2005-11-01  \n",
       "1527                             европа 2005-11-01  "
      ]
     },
     "execution_count": 66,
     "metadata": {},
     "output_type": "execute_result"
    }
   ],
   "source": [
    "data_train.head()"
   ]
  },
  {
   "cell_type": "code",
   "execution_count": 96,
   "metadata": {},
   "outputs": [
    {
     "name": "stdout",
     "output_type": "stream",
     "text": [
      "Wall time: 18.9 s\n"
     ]
    }
   ],
   "source": [
    "%%time\n",
    "modelML=peblMl(factor=0.2)\n",
    "modelML.fit(data_train['Noun'].tolist(), data_train['category'].tolist())"
   ]
  },
  {
   "cell_type": "code",
   "execution_count": 97,
   "metadata": {},
   "outputs": [],
   "source": [
    "r_test_proverka=modelML.predict('afshdlfahlsjhfda lsdafhskdhfla здоровье здоровье здоровье', 'newTopic')[:10]"
   ]
  },
  {
   "cell_type": "code",
   "execution_count": 98,
   "metadata": {},
   "outputs": [
    {
     "data": {
      "text/plain": [
       "newTopic                                    0.117649\n",
       "нефть                                       0.011864\n",
       "резервный_фонд_российской_федерации         0.010381\n",
       "военно_морской_флот_российской_федерации    0.008898\n",
       "здоровье                                    0.008898\n",
       "балтийское_море                             0.008898\n",
       "байкал                                      0.008898\n",
       "инновации                                   0.008898\n",
       "медицина                                    0.008898\n",
       "европа                                      0.008898\n",
       "dtype: float64"
      ]
     },
     "execution_count": 98,
     "metadata": {},
     "output_type": "execute_result"
    }
   ],
   "source": [
    "r_test_proverka"
   ]
  },
  {
   "cell_type": "code",
   "execution_count": 99,
   "metadata": {},
   "outputs": [
    {
     "name": "stdout",
     "output_type": "stream",
     "text": [
      "0.4 2.999949580679317\n"
     ]
    }
   ],
   "source": [
    "print (modelML.penalty, modelML.topicNewTest.sum())"
   ]
  },
  {
   "cell_type": "code",
   "execution_count": 100,
   "metadata": {},
   "outputs": [],
   "source": [
    "ar_avg_prob=modelML.ProbTopicWord"
   ]
  },
  {
   "cell_type": "code",
   "execution_count": 101,
   "metadata": {},
   "outputs": [
    {
     "name": "stdout",
     "output_type": "stream",
     "text": [
      "[0.19990005 0.24937656 0.49751244 ... 0.05878895 0.09082652 0.09086779] 0.3132781998350957 0.1998001998001998\n"
     ]
    }
   ],
   "source": [
    "print (np.amax(ar_avg_prob, axis=1), np.average(np.amax(ar_avg_prob, axis=1)), np.median(np.amax(ar_avg_prob, axis=1)))"
   ]
  },
  {
   "cell_type": "code",
   "execution_count": 102,
   "metadata": {},
   "outputs": [
    {
     "name": "stdout",
     "output_type": "stream",
     "text": [
      "4057 86182\n"
     ]
    }
   ],
   "source": [
    "print (len(np.amax(ar_avg_prob, axis=1)), len(np.amax(ar_avg_prob, axis=0)))"
   ]
  },
  {
   "cell_type": "code",
   "execution_count": null,
   "metadata": {},
   "outputs": [],
   "source": []
  },
  {
   "cell_type": "code",
   "execution_count": 103,
   "metadata": {},
   "outputs": [
    {
     "name": "stdout",
     "output_type": "stream",
     "text": [
      "0 newTopic 0.13336576209846174 джордж_уокер_буш 0.017618025177251473  2.0\n",
      "10 newTopic 0.03942246070195591 олимпийские_игры 0.03705426644417842  1.6\n",
      "20 ванкувер 0.0628290612397951 российско_американские_отношения 0.0541735890577583  0.2\n",
      "30 newTopic 0.038461718061436896 россия 0.01704607916299757  0.2\n",
      "40 newTopic 0.07146440570086943 женщины 0.05166921820014052  1.0\n",
      "50 newTopic 0.017857734214122154 россия 0.017665325848857175  0.2\n",
      "60 newTopic 0.023813784652762713 роскомнадзор 0.018976802823515115  1.0\n",
      "70 политика 0.04963843973968544 нурсултан_назарбаев 0.04637252892186747  0.6000000000000001\n",
      "80 newTopic 0.04347911384978418 политика 0.01662027870655147  1.0\n",
      "90 newTopic 0.034655011092361444 роскомнадзор 0.01321823837392982  1.4000000000000001\n",
      "Wall time: 3min 8s\n"
     ]
    }
   ],
   "source": [
    "%%time\n",
    "topicValueResult=pd.DataFrame(columns=['topicName', 'probValue', 'countNewWord'])\n",
    "i=0\n",
    "for testRow in data_test['Noun'].tolist():\n",
    "    result=modelML.predict(testRow, 'newTopic')[:2]\n",
    "    topicValueResult=topicValueResult.append({'topicName': result.index[0], 'probValue': result.values[0], 'countNewWord': modelML.penalty}, ignore_index=True)\n",
    "    if i%10==0:\n",
    "        print (i, result.index[0], result.values[0],  \n",
    "                result.index[1], result.values[1], \n",
    "               data_test['category'][i], modelML.penalty)\n",
    "    i+=1\n",
    "    #if i%10==0:\n",
    "    #    print (result.index[0], result.values[0])\n"
   ]
  },
  {
   "cell_type": "code",
   "execution_count": 104,
   "metadata": {},
   "outputs": [
    {
     "data": {
      "text/html": [
       "<div>\n",
       "<style scoped>\n",
       "    .dataframe tbody tr th:only-of-type {\n",
       "        vertical-align: middle;\n",
       "    }\n",
       "\n",
       "    .dataframe tbody tr th {\n",
       "        vertical-align: top;\n",
       "    }\n",
       "\n",
       "    .dataframe thead th {\n",
       "        text-align: right;\n",
       "    }\n",
       "</style>\n",
       "<table border=\"1\" class=\"dataframe\">\n",
       "  <thead>\n",
       "    <tr style=\"text-align: right;\">\n",
       "      <th></th>\n",
       "      <th>topicName</th>\n",
       "      <th>probValue</th>\n",
       "      <th>countNewWord</th>\n",
       "    </tr>\n",
       "  </thead>\n",
       "  <tbody>\n",
       "    <tr>\n",
       "      <th>0</th>\n",
       "      <td>newTopic</td>\n",
       "      <td>0.133366</td>\n",
       "      <td>2.0</td>\n",
       "    </tr>\n",
       "    <tr>\n",
       "      <th>1</th>\n",
       "      <td>newTopic</td>\n",
       "      <td>0.026847</td>\n",
       "      <td>0.8</td>\n",
       "    </tr>\n",
       "    <tr>\n",
       "      <th>2</th>\n",
       "      <td>newTopic</td>\n",
       "      <td>0.053038</td>\n",
       "      <td>1.4</td>\n",
       "    </tr>\n",
       "    <tr>\n",
       "      <th>3</th>\n",
       "      <td>2014</td>\n",
       "      <td>0.044473</td>\n",
       "      <td>3.8</td>\n",
       "    </tr>\n",
       "    <tr>\n",
       "      <th>4</th>\n",
       "      <td>newTopic</td>\n",
       "      <td>0.026554</td>\n",
       "      <td>1.2</td>\n",
       "    </tr>\n",
       "    <tr>\n",
       "      <th>5</th>\n",
       "      <td>newTopic</td>\n",
       "      <td>0.041684</td>\n",
       "      <td>1.0</td>\n",
       "    </tr>\n",
       "    <tr>\n",
       "      <th>6</th>\n",
       "      <td>newTopic</td>\n",
       "      <td>0.078973</td>\n",
       "      <td>1.8</td>\n",
       "    </tr>\n",
       "    <tr>\n",
       "      <th>7</th>\n",
       "      <td>политика</td>\n",
       "      <td>0.016831</td>\n",
       "      <td>0.2</td>\n",
       "    </tr>\n",
       "    <tr>\n",
       "      <th>8</th>\n",
       "      <td>newTopic</td>\n",
       "      <td>0.196473</td>\n",
       "      <td>2.2</td>\n",
       "    </tr>\n",
       "    <tr>\n",
       "      <th>9</th>\n",
       "      <td>newTopic</td>\n",
       "      <td>0.051747</td>\n",
       "      <td>1.2</td>\n",
       "    </tr>\n",
       "  </tbody>\n",
       "</table>\n",
       "</div>"
      ],
      "text/plain": [
       "  topicName  probValue  countNewWord\n",
       "0  newTopic   0.133366           2.0\n",
       "1  newTopic   0.026847           0.8\n",
       "2  newTopic   0.053038           1.4\n",
       "3      2014   0.044473           3.8\n",
       "4  newTopic   0.026554           1.2\n",
       "5  newTopic   0.041684           1.0\n",
       "6  newTopic   0.078973           1.8\n",
       "7  политика   0.016831           0.2\n",
       "8  newTopic   0.196473           2.2\n",
       "9  newTopic   0.051747           1.2"
      ]
     },
     "execution_count": 104,
     "metadata": {},
     "output_type": "execute_result"
    }
   ],
   "source": [
    "topicValueResult.head(10) "
   ]
  },
  {
   "cell_type": "code",
   "execution_count": 105,
   "metadata": {},
   "outputs": [
    {
     "data": {
      "text/plain": [
       "newTopic                  71\n",
       "2014                       5\n",
       "политика                   5\n",
       "сша                        1\n",
       "европа                     1\n",
       "экскурсии                  1\n",
       "сергей_помазун             1\n",
       "спорт                      1\n",
       "северодвинск               1\n",
       "ли_юаньчао                 1\n",
       "дания                      1\n",
       "россия                     1\n",
       "верховная_рада_украины     1\n",
       "ванкувер                   1\n",
       "блоги                      1\n",
       "дизайн                     1\n",
       "манчестер_юнайтед          1\n",
       "экономика_россии           1\n",
       "землетрясения              1\n",
       "женщины                    1\n",
       "евровидение                1\n",
       "мариано_рахой              1\n",
       "Name: topicName, dtype: int64"
      ]
     },
     "execution_count": 105,
     "metadata": {},
     "output_type": "execute_result"
    }
   ],
   "source": [
    "topicValueResult['topicName'].value_counts()"
   ]
  },
  {
   "cell_type": "code",
   "execution_count": 106,
   "metadata": {},
   "outputs": [
    {
     "data": {
      "text/html": [
       "<div>\n",
       "<style scoped>\n",
       "    .dataframe tbody tr th:only-of-type {\n",
       "        vertical-align: middle;\n",
       "    }\n",
       "\n",
       "    .dataframe tbody tr th {\n",
       "        vertical-align: top;\n",
       "    }\n",
       "\n",
       "    .dataframe thead th {\n",
       "        text-align: right;\n",
       "    }\n",
       "</style>\n",
       "<table border=\"1\" class=\"dataframe\">\n",
       "  <thead>\n",
       "    <tr style=\"text-align: right;\">\n",
       "      <th></th>\n",
       "      <th>probValue</th>\n",
       "      <th>countNewWord</th>\n",
       "    </tr>\n",
       "    <tr>\n",
       "      <th>topicName</th>\n",
       "      <th></th>\n",
       "      <th></th>\n",
       "    </tr>\n",
       "  </thead>\n",
       "  <tbody>\n",
       "    <tr>\n",
       "      <th>2014</th>\n",
       "      <td>0.206544</td>\n",
       "      <td>6.4</td>\n",
       "    </tr>\n",
       "    <tr>\n",
       "      <th>newTopic</th>\n",
       "      <td>4.341900</td>\n",
       "      <td>152.8</td>\n",
       "    </tr>\n",
       "    <tr>\n",
       "      <th>блоги</th>\n",
       "      <td>0.066148</td>\n",
       "      <td>0.8</td>\n",
       "    </tr>\n",
       "    <tr>\n",
       "      <th>ванкувер</th>\n",
       "      <td>0.062829</td>\n",
       "      <td>0.2</td>\n",
       "    </tr>\n",
       "    <tr>\n",
       "      <th>верховная_рада_украины</th>\n",
       "      <td>0.026504</td>\n",
       "      <td>0.8</td>\n",
       "    </tr>\n",
       "    <tr>\n",
       "      <th>дания</th>\n",
       "      <td>0.146495</td>\n",
       "      <td>1.6</td>\n",
       "    </tr>\n",
       "    <tr>\n",
       "      <th>дизайн</th>\n",
       "      <td>0.062673</td>\n",
       "      <td>0.2</td>\n",
       "    </tr>\n",
       "    <tr>\n",
       "      <th>евровидение</th>\n",
       "      <td>0.052229</td>\n",
       "      <td>2.4</td>\n",
       "    </tr>\n",
       "    <tr>\n",
       "      <th>европа</th>\n",
       "      <td>0.020074</td>\n",
       "      <td>0.4</td>\n",
       "    </tr>\n",
       "    <tr>\n",
       "      <th>женщины</th>\n",
       "      <td>0.085658</td>\n",
       "      <td>1.0</td>\n",
       "    </tr>\n",
       "    <tr>\n",
       "      <th>землетрясения</th>\n",
       "      <td>0.025721</td>\n",
       "      <td>0.4</td>\n",
       "    </tr>\n",
       "    <tr>\n",
       "      <th>ли_юаньчао</th>\n",
       "      <td>0.040279</td>\n",
       "      <td>0.6</td>\n",
       "    </tr>\n",
       "    <tr>\n",
       "      <th>манчестер_юнайтед</th>\n",
       "      <td>0.085620</td>\n",
       "      <td>1.4</td>\n",
       "    </tr>\n",
       "    <tr>\n",
       "      <th>мариано_рахой</th>\n",
       "      <td>0.044503</td>\n",
       "      <td>1.4</td>\n",
       "    </tr>\n",
       "    <tr>\n",
       "      <th>политика</th>\n",
       "      <td>0.131706</td>\n",
       "      <td>1.8</td>\n",
       "    </tr>\n",
       "    <tr>\n",
       "      <th>россия</th>\n",
       "      <td>0.017715</td>\n",
       "      <td>0.6</td>\n",
       "    </tr>\n",
       "    <tr>\n",
       "      <th>северодвинск</th>\n",
       "      <td>0.034858</td>\n",
       "      <td>0.4</td>\n",
       "    </tr>\n",
       "    <tr>\n",
       "      <th>сергей_помазун</th>\n",
       "      <td>0.030660</td>\n",
       "      <td>0.8</td>\n",
       "    </tr>\n",
       "    <tr>\n",
       "      <th>спорт</th>\n",
       "      <td>0.078612</td>\n",
       "      <td>0.6</td>\n",
       "    </tr>\n",
       "    <tr>\n",
       "      <th>сша</th>\n",
       "      <td>0.025955</td>\n",
       "      <td>0.4</td>\n",
       "    </tr>\n",
       "    <tr>\n",
       "      <th>экономика_россии</th>\n",
       "      <td>0.030060</td>\n",
       "      <td>0.4</td>\n",
       "    </tr>\n",
       "    <tr>\n",
       "      <th>экскурсии</th>\n",
       "      <td>0.038616</td>\n",
       "      <td>0.8</td>\n",
       "    </tr>\n",
       "  </tbody>\n",
       "</table>\n",
       "</div>"
      ],
      "text/plain": [
       "                        probValue  countNewWord\n",
       "topicName                                      \n",
       "2014                     0.206544           6.4\n",
       "newTopic                 4.341900         152.8\n",
       "блоги                    0.066148           0.8\n",
       "ванкувер                 0.062829           0.2\n",
       "верховная_рада_украины   0.026504           0.8\n",
       "дания                    0.146495           1.6\n",
       "дизайн                   0.062673           0.2\n",
       "евровидение              0.052229           2.4\n",
       "европа                   0.020074           0.4\n",
       "женщины                  0.085658           1.0\n",
       "землетрясения            0.025721           0.4\n",
       "ли_юаньчао               0.040279           0.6\n",
       "манчестер_юнайтед        0.085620           1.4\n",
       "мариано_рахой            0.044503           1.4\n",
       "политика                 0.131706           1.8\n",
       "россия                   0.017715           0.6\n",
       "северодвинск             0.034858           0.4\n",
       "сергей_помазун           0.030660           0.8\n",
       "спорт                    0.078612           0.6\n",
       "сша                      0.025955           0.4\n",
       "экономика_россии         0.030060           0.4\n",
       "экскурсии                0.038616           0.8"
      ]
     },
     "execution_count": 106,
     "metadata": {},
     "output_type": "execute_result"
    }
   ],
   "source": [
    "topicValueResult.groupby(['topicName']).sum()"
   ]
  },
  {
   "cell_type": "code",
   "execution_count": 86,
   "metadata": {},
   "outputs": [
    {
     "name": "stdout",
     "output_type": "stream",
     "text": [
      "881 107 1 8.81 6.0\n"
     ]
    }
   ],
   "source": [
    "print (topicValueResult['countNewWord'].sum(), topicValueResult['countNewWord'].max(), topicValueResult['countNewWord'].min(), topicValueResult['countNewWord'].mean(), topicValueResult['countNewWord'].median())"
   ]
  },
  {
   "cell_type": "code",
   "execution_count": null,
   "metadata": {},
   "outputs": [],
   "source": []
  }
 ],
 "metadata": {
  "kernelspec": {
   "display_name": "Python 3",
   "language": "python",
   "name": "python3"
  },
  "language_info": {
   "codemirror_mode": {
    "name": "ipython",
    "version": 3
   },
   "file_extension": ".py",
   "mimetype": "text/x-python",
   "name": "python",
   "nbconvert_exporter": "python",
   "pygments_lexer": "ipython3",
   "version": "3.6.4"
  }
 },
 "nbformat": 4,
 "nbformat_minor": 2
}
