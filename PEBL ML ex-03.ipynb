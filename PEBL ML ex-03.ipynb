{
 "cells": [
  {
   "cell_type": "code",
   "execution_count": 1,
   "metadata": {},
   "outputs": [],
   "source": [
    "import pandas as pd\n",
    "import numpy as np\n",
    "import time\n",
    "from src.peblMl import *"
   ]
  },
  {
   "cell_type": "code",
   "execution_count": 2,
   "metadata": {},
   "outputs": [
    {
     "name": "stdout",
     "output_type": "stream",
     "text": [
      "100 5000\n",
      "Wall time: 129 ms\n"
     ]
    }
   ],
   "source": [
    "%%time\n",
    "data_start=pd.read_pickle('data/wikiNews.pkl')\n",
    "data_train=data_start[:5000]\n",
    "data_test=data_start[5000:5100]\n",
    "#data_test=data_test[~data_test['topic'].isin(['other'])]\n",
    "#data_train=data_train[~data_train['topic'].isin(['other'])]\n",
    "print (len(data_test), len(data_train))"
   ]
  },
  {
   "cell_type": "code",
   "execution_count": 3,
   "metadata": {},
   "outputs": [
    {
     "data": {
      "text/html": [
       "<div>\n",
       "<style scoped>\n",
       "    .dataframe tbody tr th:only-of-type {\n",
       "        vertical-align: middle;\n",
       "    }\n",
       "\n",
       "    .dataframe tbody tr th {\n",
       "        vertical-align: top;\n",
       "    }\n",
       "\n",
       "    .dataframe thead th {\n",
       "        text-align: right;\n",
       "    }\n",
       "</style>\n",
       "<table border=\"1\" class=\"dataframe\">\n",
       "  <thead>\n",
       "    <tr style=\"text-align: right;\">\n",
       "      <th></th>\n",
       "      <th>Noun</th>\n",
       "      <th>Text</th>\n",
       "      <th>category</th>\n",
       "      <th>topic</th>\n",
       "      <th>date_news</th>\n",
       "    </tr>\n",
       "  </thead>\n",
       "  <tbody>\n",
       "    <tr>\n",
       "      <th>7376</th>\n",
       "      <td>мефодий год жизнь поэт член союз писатель росс...</td>\n",
       "      <td>владимир мефодьевич сегодня из пришло известие...</td>\n",
       "      <td>барнаул алтайский_край некрологи писатели росс...</td>\n",
       "      <td>россия, некрологи</td>\n",
       "      <td>2005-02-01</td>\n",
       "    </tr>\n",
       "    <tr>\n",
       "      <th>1349</th>\n",
       "      <td>россия премьерминистр украина разъяснение вним...</td>\n",
       "      <td>россия заявлениями премьерминистра украины хоч...</td>\n",
       "      <td>россия украина политика вто юрий_ехануров поли...</td>\n",
       "      <td>россия, украина, политика, европа</td>\n",
       "      <td>2005-11-01</td>\n",
       "    </tr>\n",
       "    <tr>\n",
       "      <th>1516</th>\n",
       "      <td>спортиспанияс человек гроссмейстер программа ч...</td>\n",
       "      <td>матч люди компьютеров спортиспанияс по ноября ...</td>\n",
       "      <td>фиде</td>\n",
       "      <td>other</td>\n",
       "      <td>2005-11-01</td>\n",
       "    </tr>\n",
       "    <tr>\n",
       "      <th>1520</th>\n",
       "      <td>ангел меркель германия германия женщина правит...</td>\n",
       "      <td>ангела меркель канцлер германии германия она п...</td>\n",
       "      <td>ангела_меркель христианско_демократический_сою...</td>\n",
       "      <td>политика</td>\n",
       "      <td>2005-11-01</td>\n",
       "    </tr>\n",
       "    <tr>\n",
       "      <th>1527</th>\n",
       "      <td>атака ноябрь страница атака домен машина гугл ...</td>\n",
       "      <td>атака гугл данным компании ноября предпринята ...</td>\n",
       "      <td>google швейцария европа интернет хакерские_ата...</td>\n",
       "      <td>европа</td>\n",
       "      <td>2005-11-01</td>\n",
       "    </tr>\n",
       "  </tbody>\n",
       "</table>\n",
       "</div>"
      ],
      "text/plain": [
       "                                                   Noun  \\\n",
       "7376  мефодий год жизнь поэт член союз писатель росс...   \n",
       "1349  россия премьерминистр украина разъяснение вним...   \n",
       "1516  спортиспанияс человек гроссмейстер программа ч...   \n",
       "1520  ангел меркель германия германия женщина правит...   \n",
       "1527  атака ноябрь страница атака домен машина гугл ...   \n",
       "\n",
       "                                                   Text  \\\n",
       "7376  владимир мефодьевич сегодня из пришло известие...   \n",
       "1349  россия заявлениями премьерминистра украины хоч...   \n",
       "1516  матч люди компьютеров спортиспанияс по ноября ...   \n",
       "1520  ангела меркель канцлер германии германия она п...   \n",
       "1527  атака гугл данным компании ноября предпринята ...   \n",
       "\n",
       "                                               category  \\\n",
       "7376  барнаул алтайский_край некрологи писатели росс...   \n",
       "1349  россия украина политика вто юрий_ехануров поли...   \n",
       "1516                                               фиде   \n",
       "1520  ангела_меркель христианско_демократический_сою...   \n",
       "1527  google швейцария европа интернет хакерские_ата...   \n",
       "\n",
       "                                  topic  date_news  \n",
       "7376                  россия, некрологи 2005-02-01  \n",
       "1349  россия, украина, политика, европа 2005-11-01  \n",
       "1516                              other 2005-11-01  \n",
       "1520                           политика 2005-11-01  \n",
       "1527                             европа 2005-11-01  "
      ]
     },
     "execution_count": 3,
     "metadata": {},
     "output_type": "execute_result"
    }
   ],
   "source": [
    "data_train.head()"
   ]
  },
  {
   "cell_type": "code",
   "execution_count": 4,
   "metadata": {},
   "outputs": [
    {
     "name": "stdout",
     "output_type": "stream",
     "text": [
      "0.9 100\n",
      "0.8 100\n",
      "0.7 100\n",
      "0.6 97\n",
      "0.5 95\n",
      "0.4 91\n",
      "0.3 88\n",
      "0.2 75\n",
      "0.1 24\n",
      "0.05 7\n",
      "0.01 0\n",
      "Wall time: 22min 19s\n"
     ]
    }
   ],
   "source": [
    "%%time\n",
    "VisResult=pd.DataFrame(columns=['factor', 'count new topic'])\n",
    "for r in [0.9, 0.8, 0.7, 0.6, 0.5, 0.4, 0.3, 0.2, 0.1, 0.05, 0.01]:\n",
    "    modelML=peblMl(factor=r)\n",
    "    modelML.fit(data_train['Noun'].tolist(), data_train['category'].tolist())\n",
    "    topicValueResult=pd.DataFrame(columns=['topicName', 'probValue'])\n",
    "    for testRow in data_test['Noun'].tolist():\n",
    "        result=modelML.predict(testRow, 'newTopic')[:1]\n",
    "        topicValueResult=topicValueResult.append({'topicName': result.index[0], 'probValue': result.values[0]}, ignore_index=True)\n",
    "    topicValueResultCount=topicValueResult[topicValueResult['topicName'].isin(['newTopic'])]\n",
    "    VisResult=VisResult.append({'factor': modelML.factor, 'count new topic': len(topicValueResultCount)}, ignore_index=True)\n",
    "    print (modelML.factor, len(topicValueResultCount))"
   ]
  },
  {
   "cell_type": "code",
   "execution_count": 10,
   "metadata": {},
   "outputs": [
    {
     "data": {
      "text/plain": [
       "<matplotlib.axes._subplots.AxesSubplot at 0x1ff5589a780>"
      ]
     },
     "execution_count": 10,
     "metadata": {},
     "output_type": "execute_result"
    },
    {
     "data": {
      "image/png": "[encoded data removed]",
      "text/plain": [
       "<matplotlib.figure.Figure at 0x1ff55cbccc0>"
      ]
     },
     "metadata": {},
     "output_type": "display_data"
    }
   ],
   "source": [
    "VisResult.plot.bar(x='factor', y='count new topic', figsize=(16, 12), color='grey')"
   ]
  },
  {
   "cell_type": "code",
   "execution_count": 8,
   "metadata": {},
   "outputs": [
    {
     "data": {
      "text/plain": [
       "<matplotlib.axes._subplots.AxesSubplot at 0x1ff540749e8>"
      ]
     },
     "execution_count": 8,
     "metadata": {},
     "output_type": "execute_result"
    },
    {
     "data": {
      "image/png": "[encoded data removed]",
      "text/plain": [
       "<matplotlib.figure.Figure at 0x1ff55401a58>"
      ]
     },
     "metadata": {},
     "output_type": "display_data"
    }
   ],
   "source": [
    "VisResult.plot(x='factor', y='count new topic', figsize=(16, 12))"
   ]
  },
  {
   "cell_type": "code",
   "execution_count": null,
   "metadata": {},
   "outputs": [],
   "source": []
  }
 ],
 "metadata": {
  "kernelspec": {
   "display_name": "Python 3",
   "language": "python",
   "name": "python3"
  },
  "language_info": {
   "codemirror_mode": {
    "name": "ipython",
    "version": 3
   },
   "file_extension": ".py",
   "mimetype": "text/x-python",
   "name": "python",
   "nbconvert_exporter": "python",
   "pygments_lexer": "ipython3",
   "version": "3.6.4"
  }
 },
 "nbformat": 4,
 "nbformat_minor": 2
}
