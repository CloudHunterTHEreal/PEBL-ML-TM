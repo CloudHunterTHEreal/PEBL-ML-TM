{
 "cells": [
  {
   "cell_type": "code",
   "execution_count": 1,
   "metadata": {},
   "outputs": [],
   "source": [
    "import pandas as pd\n",
    "import numpy as np\n",
    "import time\n",
    "from src.peblMl import *"
   ]
  },
  {
   "cell_type": "code",
   "execution_count": 24,
   "metadata": {},
   "outputs": [
    {
     "name": "stdout",
     "output_type": "stream",
     "text": [
      "50 1160\n",
      "Wall time: 117 ms\n"
     ]
    }
   ],
   "source": [
    "%%time\n",
    "data_start=pd.read_pickle('data/wikiNews.pkl')\n",
    "data_train=data_start[:3000]\n",
    "data_test=data_start[3000:3050]\n",
    "#data_test=data_test[~data_test['topic'].isin(['other'])]\n",
    "data_train=data_train[~data_train['topic'].isin(['other'])]\n",
    "print (len(data_test), len(data_train))"
   ]
  },
  {
   "cell_type": "code",
   "execution_count": 25,
   "metadata": {},
   "outputs": [
    {
     "data": {
      "text/html": [
       "<div>\n",
       "<style scoped>\n",
       "    .dataframe tbody tr th:only-of-type {\n",
       "        vertical-align: middle;\n",
       "    }\n",
       "\n",
       "    .dataframe tbody tr th {\n",
       "        vertical-align: top;\n",
       "    }\n",
       "\n",
       "    .dataframe thead th {\n",
       "        text-align: right;\n",
       "    }\n",
       "</style>\n",
       "<table border=\"1\" class=\"dataframe\">\n",
       "  <thead>\n",
       "    <tr style=\"text-align: right;\">\n",
       "      <th></th>\n",
       "      <th>Noun</th>\n",
       "      <th>Text</th>\n",
       "      <th>category</th>\n",
       "      <th>topic</th>\n",
       "      <th>date_news</th>\n",
       "    </tr>\n",
       "  </thead>\n",
       "  <tbody>\n",
       "    <tr>\n",
       "      <th>7376</th>\n",
       "      <td>мефодий год жизнь поэт член союз писатель росс...</td>\n",
       "      <td>владимир мефодьевич сегодня из пришло известие...</td>\n",
       "      <td>барнаул алтайский_край некрологи писатели росс...</td>\n",
       "      <td>россия, некрологи</td>\n",
       "      <td>2005-02-01</td>\n",
       "    </tr>\n",
       "    <tr>\n",
       "      <th>1349</th>\n",
       "      <td>россия премьерминистр украина разъяснение вним...</td>\n",
       "      <td>россия заявлениями премьерминистра украины хоч...</td>\n",
       "      <td>россия украина политика вто юрий_ехануров поли...</td>\n",
       "      <td>россия, украина, политика, европа</td>\n",
       "      <td>2005-11-01</td>\n",
       "    </tr>\n",
       "    <tr>\n",
       "      <th>1520</th>\n",
       "      <td>ангел меркель германия германия женщина правит...</td>\n",
       "      <td>ангела меркель канцлер германии германия она п...</td>\n",
       "      <td>ангела_меркель христианско_демократический_сою...</td>\n",
       "      <td>политика</td>\n",
       "      <td>2005-11-01</td>\n",
       "    </tr>\n",
       "    <tr>\n",
       "      <th>1527</th>\n",
       "      <td>атака ноябрь страница атака домен машина гугл ...</td>\n",
       "      <td>атака гугл данным компании ноября предпринята ...</td>\n",
       "      <td>google швейцария европа интернет хакерские_ата...</td>\n",
       "      <td>европа</td>\n",
       "      <td>2005-11-01</td>\n",
       "    </tr>\n",
       "    <tr>\n",
       "      <th>1531</th>\n",
       "      <td>ограничение технология доставка мкс состояние ...</td>\n",
       "      <td>ограничения закупку космических технологий кос...</td>\n",
       "      <td>космонавтика мкс политика_сша джордж_уокер_буш...</td>\n",
       "      <td>политика</td>\n",
       "      <td>2005-11-01</td>\n",
       "    </tr>\n",
       "  </tbody>\n",
       "</table>\n",
       "</div>"
      ],
      "text/plain": [
       "                                                   Noun  \\\n",
       "7376  мефодий год жизнь поэт член союз писатель росс...   \n",
       "1349  россия премьерминистр украина разъяснение вним...   \n",
       "1520  ангел меркель германия германия женщина правит...   \n",
       "1527  атака ноябрь страница атака домен машина гугл ...   \n",
       "1531  ограничение технология доставка мкс состояние ...   \n",
       "\n",
       "                                                   Text  \\\n",
       "7376  владимир мефодьевич сегодня из пришло известие...   \n",
       "1349  россия заявлениями премьерминистра украины хоч...   \n",
       "1520  ангела меркель канцлер германии германия она п...   \n",
       "1527  атака гугл данным компании ноября предпринята ...   \n",
       "1531  ограничения закупку космических технологий кос...   \n",
       "\n",
       "                                               category  \\\n",
       "7376  барнаул алтайский_край некрологи писатели росс...   \n",
       "1349  россия украина политика вто юрий_ехануров поли...   \n",
       "1520  ангела_меркель христианско_демократический_сою...   \n",
       "1527  google швейцария европа интернет хакерские_ата...   \n",
       "1531  космонавтика мкс политика_сша джордж_уокер_буш...   \n",
       "\n",
       "                                  topic  date_news  \n",
       "7376                  россия, некрологи 2005-02-01  \n",
       "1349  россия, украина, политика, европа 2005-11-01  \n",
       "1520                           политика 2005-11-01  \n",
       "1527                             европа 2005-11-01  \n",
       "1531                           политика 2005-11-01  "
      ]
     },
     "execution_count": 25,
     "metadata": {},
     "output_type": "execute_result"
    }
   ],
   "source": [
    "data_train.head()"
   ]
  },
  {
   "cell_type": "code",
   "execution_count": 26,
   "metadata": {},
   "outputs": [
    {
     "name": "stdout",
     "output_type": "stream",
     "text": [
      "Wall time: 286 ms\n"
     ]
    }
   ],
   "source": [
    "%%time\n",
    "modelML=peblMl()\n",
    "modelML.fit(data_train['Noun'].tolist(), data_train['topic'].tolist())"
   ]
  },
  {
   "cell_type": "code",
   "execution_count": 28,
   "metadata": {},
   "outputs": [
    {
     "data": {
      "text/plain": [
       "политика      0.648028\n",
       "россия        0.149889\n",
       "европа        0.114426\n",
       "футбол        0.020103\n",
       "спорт         0.018300\n",
       "некрологи     0.016339\n",
       "франция       0.010750\n",
       "астрономия    0.009889\n",
       "украина       0.008861\n",
       "праздники     0.003416\n",
       "dtype: float64"
      ]
     },
     "execution_count": 28,
     "metadata": {},
     "output_type": "execute_result"
    }
   ],
   "source": [
    "modelML.predict(data_train['Noun'].tolist()[11], 'newTopic')[:10]"
   ]
  },
  {
   "cell_type": "code",
   "execution_count": 31,
   "metadata": {},
   "outputs": [
    {
     "name": "stdout",
     "output_type": "stream",
     "text": [
      "newTopic 0.3573541669308139 other\n",
      "newTopic 0.42140682975025706 other\n",
      "newTopic 0.3533449851532604 other\n",
      "newTopic 0.40650890066220624 other\n",
      "newTopic 0.36603294583682494 other\n",
      "newTopic 0.2877859826368704 other\n",
      "newTopic 0.27371812752040375 other\n",
      "newTopic 0.3903157522375148 other\n",
      "newTopic 0.31994025228396905 некрологи\n",
      "newTopic 0.23828364970929924 other\n",
      "Wall time: 384 ms\n"
     ]
    }
   ],
   "source": [
    "%%time\n",
    "topicValueResult=pd.DataFrame(columns=['topicName', 'probValue'])\n",
    "i=0\n",
    "for testRow in data_test['Noun'].tolist():\n",
    "    result=modelML.predict(testRow, 'newTopic')[:1]\n",
    "    topicValueResult=topicValueResult.append({'topicName': result.index[0], 'probValue': result.values[0]}, ignore_index=True)\n",
    "    if result.index[0]=='newTopic':\n",
    "        print (result.index[0], result.values[0], data_test['topic'][i])\n",
    "    i+=1\n",
    "    #if i%10==0:\n",
    "    #    print (result.index[0], result.values[0])\n"
   ]
  },
  {
   "cell_type": "code",
   "execution_count": 11,
   "metadata": {},
   "outputs": [
    {
     "data": {
      "text/html": [
       "<div>\n",
       "<style scoped>\n",
       "    .dataframe tbody tr th:only-of-type {\n",
       "        vertical-align: middle;\n",
       "    }\n",
       "\n",
       "    .dataframe tbody tr th {\n",
       "        vertical-align: top;\n",
       "    }\n",
       "\n",
       "    .dataframe thead th {\n",
       "        text-align: right;\n",
       "    }\n",
       "</style>\n",
       "<table border=\"1\" class=\"dataframe\">\n",
       "  <thead>\n",
       "    <tr style=\"text-align: right;\">\n",
       "      <th></th>\n",
       "      <th>topicName</th>\n",
       "      <th>probValue</th>\n",
       "    </tr>\n",
       "  </thead>\n",
       "  <tbody>\n",
       "    <tr>\n",
       "      <th>0</th>\n",
       "      <td>политика</td>\n",
       "      <td>0.415808</td>\n",
       "    </tr>\n",
       "    <tr>\n",
       "      <th>1</th>\n",
       "      <td>newTopic</td>\n",
       "      <td>0.357354</td>\n",
       "    </tr>\n",
       "    <tr>\n",
       "      <th>2</th>\n",
       "      <td>политика</td>\n",
       "      <td>0.303558</td>\n",
       "    </tr>\n",
       "    <tr>\n",
       "      <th>3</th>\n",
       "      <td>newTopic</td>\n",
       "      <td>0.421407</td>\n",
       "    </tr>\n",
       "    <tr>\n",
       "      <th>4</th>\n",
       "      <td>политика</td>\n",
       "      <td>0.372710</td>\n",
       "    </tr>\n",
       "  </tbody>\n",
       "</table>\n",
       "</div>"
      ],
      "text/plain": [
       "  topicName  probValue\n",
       "0  политика   0.415808\n",
       "1  newTopic   0.357354\n",
       "2  политика   0.303558\n",
       "3  newTopic   0.421407\n",
       "4  политика   0.372710"
      ]
     },
     "execution_count": 11,
     "metadata": {},
     "output_type": "execute_result"
    }
   ],
   "source": [
    "topicValueResult.head() "
   ]
  },
  {
   "cell_type": "code",
   "execution_count": 32,
   "metadata": {},
   "outputs": [
    {
     "data": {
      "text/plain": [
       "политика    34\n",
       "newTopic    10\n",
       "россия       4\n",
       "европа       2\n",
       "Name: topicName, dtype: int64"
      ]
     },
     "execution_count": 32,
     "metadata": {},
     "output_type": "execute_result"
    }
   ],
   "source": [
    "topicValueResult['topicName'].value_counts()"
   ]
  },
  {
   "cell_type": "code",
   "execution_count": 34,
   "metadata": {},
   "outputs": [
    {
     "data": {
      "text/html": [
       "<div>\n",
       "<style scoped>\n",
       "    .dataframe tbody tr th:only-of-type {\n",
       "        vertical-align: middle;\n",
       "    }\n",
       "\n",
       "    .dataframe tbody tr th {\n",
       "        vertical-align: top;\n",
       "    }\n",
       "\n",
       "    .dataframe thead th {\n",
       "        text-align: right;\n",
       "    }\n",
       "</style>\n",
       "<table border=\"1\" class=\"dataframe\">\n",
       "  <thead>\n",
       "    <tr style=\"text-align: right;\">\n",
       "      <th></th>\n",
       "      <th>probValue</th>\n",
       "    </tr>\n",
       "    <tr>\n",
       "      <th>topicName</th>\n",
       "      <th></th>\n",
       "    </tr>\n",
       "  </thead>\n",
       "  <tbody>\n",
       "    <tr>\n",
       "      <th>newTopic</th>\n",
       "      <td>3.414692</td>\n",
       "    </tr>\n",
       "    <tr>\n",
       "      <th>европа</th>\n",
       "      <td>0.505284</td>\n",
       "    </tr>\n",
       "    <tr>\n",
       "      <th>политика</th>\n",
       "      <td>12.797851</td>\n",
       "    </tr>\n",
       "    <tr>\n",
       "      <th>россия</th>\n",
       "      <td>0.906963</td>\n",
       "    </tr>\n",
       "  </tbody>\n",
       "</table>\n",
       "</div>"
      ],
      "text/plain": [
       "           probValue\n",
       "topicName           \n",
       "newTopic    3.414692\n",
       "европа      0.505284\n",
       "политика   12.797851\n",
       "россия      0.906963"
      ]
     },
     "execution_count": 34,
     "metadata": {},
     "output_type": "execute_result"
    }
   ],
   "source": [
    "topicValueResult.groupby(['topicName']).sum()"
   ]
  },
  {
   "cell_type": "code",
   "execution_count": null,
   "metadata": {},
   "outputs": [],
   "source": []
  }
 ],
 "metadata": {
  "kernelspec": {
   "display_name": "Python 3",
   "language": "python",
   "name": "python3"
  },
  "language_info": {
   "codemirror_mode": {
    "name": "ipython",
    "version": 3
   },
   "file_extension": ".py",
   "mimetype": "text/x-python",
   "name": "python",
   "nbconvert_exporter": "python",
   "pygments_lexer": "ipython3",
   "version": "3.6.4"
  }
 },
 "nbformat": 4,
 "nbformat_minor": 2
}
