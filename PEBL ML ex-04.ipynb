{
 "cells": [
  {
   "cell_type": "code",
   "execution_count": 7,
   "metadata": {},
   "outputs": [
    {
     "name": "stderr",
     "output_type": "stream",
     "text": [
      "E:\\Anaconda\\lib\\site-packages\\sklearn\\linear_model\\logistic.py:1228: UserWarning: 'n_jobs' > 1 does not have any effect when 'solver' is set to 'liblinear'. Got 'n_jobs' = -1.\n",
      "  \" = {}.\".format(self.n_jobs))\n"
     ]
    },
    {
     "data": {
      "text/plain": [
       "LogisticRegression(C=535, class_weight=None, dual=False, fit_intercept=True,\n",
       "          intercept_scaling=1, max_iter=100, multi_class='ovr', n_jobs=-1,\n",
       "          penalty='l2', random_state=None, solver='liblinear', tol=0.001,\n",
       "          verbose=0, warm_start=False)"
      ]
     },
     "execution_count": 7,
     "metadata": {},
     "output_type": "execute_result"
    }
   ],
   "source": [
    "import pandas as pd\n",
    "import numpy as np\n",
    "import time\n",
    "from src.peblMl import *\n",
    "from sklearn.feature_extraction.text import TfidfVectorizer\n",
    "from sklearn.linear_model import LogisticRegression\n",
    "\n",
    "textData=['почему спорт футбол бег', 'почему бег полезен здоровье', 'почему автомобили дороги город']\n",
    "topicData=['sport', 'health', 'car']\n",
    "\n",
    "modelML=peblMl()\n",
    "modelML.fit(textData, topicData)\n",
    "vectorizer = TfidfVectorizer(min_df=1)\n",
    "clf = LogisticRegression(C=535, class_weight=None, dual=False, fit_intercept=True,\n",
    "          intercept_scaling=1, max_iter=100, multi_class='ovr', n_jobs=-1,\n",
    "          penalty='l2', random_state=None, solver='liblinear', tol=0.001,\n",
    "          verbose=0, warm_start=False)\n",
    "vectorizer_model = vectorizer.fit(textData)\n",
    "vectors = vectorizer.transform(textData)\n",
    "clf.fit(vectors, topicData)\n"
   ]
  },
  {
   "cell_type": "code",
   "execution_count": 8,
   "metadata": {},
   "outputs": [
    {
     "name": "stdout",
     "output_type": "stream",
     "text": [
      "почему\n",
      "[('car', 0.39707865616515997), ('sport', 0.30146067191742004), ('health', 0.30146067191742)]\n",
      "sport       0.333333\n",
      "health      0.333333\n",
      "car         0.333333\n",
      "newTopic    0.000000\n",
      "dtype: float64\n",
      "почему бег\n",
      "[('health', 0.48300720453863677), ('sport', 0.48300720453863666), ('car', 0.03398559092272658)]\n",
      "sport       0.416598\n",
      "health      0.416598\n",
      "car         0.166805\n",
      "newTopic    0.000000\n",
      "dtype: float64\n",
      "почему бег спорт\n",
      "[('sport', 0.9451992559465192), ('health', 0.04247153405329603), ('car', 0.012329210000184741)]\n",
      "sport       0.610315\n",
      "health      0.278267\n",
      "car         0.111418\n",
      "newTopic    0.000000\n",
      "dtype: float64\n",
      "Москва спорт\n",
      "[('sport', 0.9444733528745066), ('car', 0.04408677461538241), ('health', 0.011439872510111013)]\n",
      "newTopic    0.502488\n",
      "sport       0.497512\n",
      "health      0.000000\n",
      "car         0.000000\n",
      "dtype: float64\n",
      "санки новинка\n",
      "[('car', 0.4067192198934804), ('health', 0.29664039005325976), ('sport', 0.29664039005325976)]\n",
      "newTopic    1.0\n",
      "sport       0.0\n",
      "health      0.0\n",
      "car         0.0\n",
      "dtype: float64\n",
      "космические истории\n",
      "[('car', 0.4067192198934804), ('health', 0.29664039005325976), ('sport', 0.29664039005325976)]\n",
      "newTopic    1.0\n",
      "sport       0.0\n",
      "health      0.0\n",
      "car         0.0\n",
      "dtype: float64\n"
     ]
    }
   ],
   "source": [
    "testText='почему'\n",
    "print (testText)\n",
    "print (sorted(list(zip(clf.classes_, clf.predict_proba(vectorizer.transform([testText]))[0].tolist())), key = lambda x:x[1], reverse=True))\n",
    "print (modelML.predict(testText))\n",
    "testText='почему бег'\n",
    "print (testText)\n",
    "print (sorted(list(zip(clf.classes_, clf.predict_proba(vectorizer.transform([testText]))[0].tolist())), key = lambda x:x[1], reverse=True))\n",
    "print (modelML.predict(testText))\n",
    "testText='почему бег спорт'\n",
    "print (testText)\n",
    "print (sorted(list(zip(clf.classes_, clf.predict_proba(vectorizer.transform([testText]))[0].tolist())), key = lambda x:x[1], reverse=True))\n",
    "print (modelML.predict(testText))\n",
    "testText='Москва спорт'\n",
    "print (testText)\n",
    "print (sorted(list(zip(clf.classes_, clf.predict_proba(vectorizer.transform([testText]))[0].tolist())), key = lambda x:x[1], reverse=True))\n",
    "print (modelML.predict(testText))\n",
    "testText='санки новинка'\n",
    "print (testText)\n",
    "print (sorted(list(zip(clf.classes_, clf.predict_proba(vectorizer.transform([testText]))[0].tolist())), key = lambda x:x[1], reverse=True))\n",
    "print (modelML.predict(testText))\n",
    "testText='космические истории'\n",
    "print (testText)\n",
    "print (sorted(list(zip(clf.classes_, clf.predict_proba(vectorizer.transform([testText]))[0].tolist())), key = lambda x:x[1], reverse=True))\n",
    "print (modelML.predict(testText))"
   ]
  },
  {
   "cell_type": "code",
   "execution_count": null,
   "metadata": {},
   "outputs": [],
   "source": []
  }
 ],
 "metadata": {
  "kernelspec": {
   "display_name": "Python 3",
   "language": "python",
   "name": "python3"
  },
  "language_info": {
   "codemirror_mode": {
    "name": "ipython",
    "version": 3
   },
   "file_extension": ".py",
   "mimetype": "text/x-python",
   "name": "python",
   "nbconvert_exporter": "python",
   "pygments_lexer": "ipython3",
   "version": "3.6.4"
  }
 },
 "nbformat": 4,
 "nbformat_minor": 2
}
