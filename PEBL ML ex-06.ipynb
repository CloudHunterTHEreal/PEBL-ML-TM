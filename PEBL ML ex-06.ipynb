{
 "cells": [
  {
   "cell_type": "code",
   "execution_count": 1,
   "metadata": {},
   "outputs": [],
   "source": [
    "import pandas as pd\n",
    "import numpy as np\n",
    "import time\n",
    "from src.peblMl import *\n",
    "from sklearn.feature_extraction.text import TfidfVectorizer\n",
    "from sklearn.linear_model import LogisticRegression\n",
    "from sklearn.metrics import confusion_matrix\n",
    "\n",
    "import matplotlib.pyplot as plt\n",
    "from pandas_ml import ConfusionMatrix as CM2\n",
    "from sklearn.metrics import classification_report"
   ]
  },
  {
   "cell_type": "code",
   "execution_count": 2,
   "metadata": {},
   "outputs": [
    {
     "name": "stdout",
     "output_type": "stream",
     "text": [
      "Train Data: \n",
      " политика      80\n",
      "астрономия    25\n",
      "Name: topic, dtype: int64\n",
      "Test Data: \n",
      " other         595\n",
      "политика      375\n",
      "астрономия      9\n",
      "Name: topic, dtype: int64\n",
      "Wall time: 581 ms\n"
     ]
    },
    {
     "name": "stderr",
     "output_type": "stream",
     "text": [
      "E:\\Anaconda\\lib\\site-packages\\ipykernel_launcher.py:3: SettingWithCopyWarning: \n",
      "A value is trying to be set on a copy of a slice from a DataFrame.\n",
      "Try using .loc[row_indexer,col_indexer] = value instead\n",
      "\n",
      "See the caveats in the documentation: http://pandas.pydata.org/pandas-docs/stable/indexing.html#indexing-view-versus-copy\n",
      "  This is separate from the ipykernel package so we can avoid doing imports until\n"
     ]
    }
   ],
   "source": [
    "%%time\n",
    "data_start=pd.read_pickle('data/wikiNews.pkl')\n",
    "data_noise=data_start[data_start['topic'].isin([ 'европа', 'футбол', 'спорт', 'россия'])]\n",
    "data_noise['topic']='other'\n",
    "data_sport=data_start[data_start['topic'].isin(['политика'])]\n",
    "data_space=data_start[data_start['topic'].isin(['астрономия'])]\n",
    "data_test=data_noise\n",
    "data_test=data_test.append(data_sport[80:])\n",
    "data_test=data_test.append(data_space[25:])\n",
    "data_train=data_sport[:80]\n",
    "data_train=data_train.append(data_space[:25])\n",
    "print ('Train Data: \\n', data_train['topic'].value_counts())\n",
    "print ('Test Data: \\n', data_test['topic'].value_counts())"
   ]
  },
  {
   "cell_type": "code",
   "execution_count": 3,
   "metadata": {},
   "outputs": [
    {
     "name": "stderr",
     "output_type": "stream",
     "text": [
      "E:\\Anaconda\\lib\\site-packages\\sklearn\\linear_model\\logistic.py:1228: UserWarning: 'n_jobs' > 1 does not have any effect when 'solver' is set to 'liblinear'. Got 'n_jobs' = -1.\n",
      "  \" = {}.\".format(self.n_jobs))\n"
     ]
    },
    {
     "name": "stdout",
     "output_type": "stream",
     "text": [
      "Wall time: 5.4 s\n"
     ]
    }
   ],
   "source": [
    "%%time\n",
    "modelML=peblMl()\n",
    "modelML.fit(data_train['Noun'].tolist(), data_train['topic'].tolist())\n",
    "vectorizer = TfidfVectorizer(min_df=1)\n",
    "clf = LogisticRegression(C=535, class_weight=None, dual=False, fit_intercept=True,\n",
    "          intercept_scaling=1, max_iter=100, multi_class='ovr', n_jobs=-1,\n",
    "          penalty='l2', random_state=None, solver='liblinear', tol=0.001,\n",
    "          verbose=0, warm_start=False)\n",
    "vectorizer_model = vectorizer.fit(data_train['Noun'].tolist())\n",
    "vectors = vectorizer.transform(data_train['Noun'].tolist())\n",
    "clf.fit(vectors, data_train['topic'].tolist())\n",
    "\n",
    "topicValueResult=pd.DataFrame(columns=['topicName', 'probValue', 'realTopic', 'className'])\n",
    "goodT=0\n",
    "wrongT=0\n",
    "i=0\n",
    "for testRow in data_test['Noun'].tolist():\n",
    "    result=modelML.predict(testRow, 'other')[:1]\n",
    "    topicValueResult=topicValueResult.append({'topicName': result.index[0], 'probValue': result.values[0], \n",
    "                                             'realTopic': data_test['topic'][i], 'className': clf.predict(vectorizer.transform([testRow]))[0].tolist()}, ignore_index=True)\n",
    "    if result.index[0]!='other' and data_test['topic'][i]!='other':\n",
    "        #print (result.index[0], result.values[0], data_test['topic'][i])\n",
    "        goodT+=1\n",
    "    if data_test['topic'][i]!='other' and result.index[0]=='other':\n",
    "        wrongT+=1\n",
    "    i+=1\n",
    "\n"
   ]
  },
  {
   "cell_type": "code",
   "execution_count": 4,
   "metadata": {
    "scrolled": false
   },
   "outputs": [
    {
     "name": "stdout",
     "output_type": "stream",
     "text": [
      "Real Value: \n",
      " other         595\n",
      "политика      375\n",
      "астрономия      9\n",
      "Name: realTopic, dtype: int64\n",
      "Classification Value: \n",
      " политика      959\n",
      "астрономия     20\n",
      "Name: className, dtype: int64\n",
      "Topic Model Value: \n",
      " other         575\n",
      "политика      396\n",
      "астрономия      8\n",
      "Name: topicName, dtype: int64\n"
     ]
    },
    {
     "name": "stderr",
     "output_type": "stream",
     "text": [
      "E:\\Anaconda\\lib\\site-packages\\pandas_ml\\confusion_matrix\\abstract.py:66: FutureWarning: \n",
      "Passing list-likes to .loc or [] with any missing label will raise\n",
      "KeyError in the future, you can use .reindex() as an alternative.\n",
      "\n",
      "See the documentation here:\n",
      "http://pandas.pydata.org/pandas-docs/stable/indexing.html#deprecate-loc-reindex-listlike\n",
      "  df = df.loc[idx, idx.copy()].fillna(0)  # if some columns or rows are missing\n",
      "E:\\Anaconda\\lib\\site-packages\\pandas_ml\\confusion_matrix\\bcm.py:236: RuntimeWarning: invalid value encountered in double_scalars\n",
      "  return(np.float64(self.TP) / self.PositiveTest)\n",
      "E:\\Anaconda\\lib\\site-packages\\pandas_ml\\confusion_matrix\\bcm.py:267: RuntimeWarning: invalid value encountered in double_scalars\n",
      "  return(np.float64(self.FP) / self.PositiveTest)\n",
      "E:\\Anaconda\\lib\\site-packages\\pandas_ml\\confusion_matrix\\bcm.py:302: RuntimeWarning: invalid value encountered in true_divide\n",
      "  * (self.TN + self.FP) * (self.TN + self.FN)))\n",
      "E:\\Anaconda\\lib\\site-packages\\pandas_ml\\confusion_matrix\\bcm.py:330: RuntimeWarning: invalid value encountered in double_scalars\n",
      "  return(np.float64(self.TPR) / self.FPR)\n",
      "E:\\Anaconda\\lib\\site-packages\\pandas_ml\\confusion_matrix\\bcm.py:344: RuntimeWarning: divide by zero encountered in double_scalars\n",
      "  return(np.float64(self.LRP) / self.LRN)\n"
     ]
    },
    {
     "name": "stdout",
     "output_type": "stream",
     "text": [
      "Class \n",
      " OrderedDict([('cm', Predicted   other  астрономия  политика  __all__\n",
      "Actual                                          \n",
      "other           0          11       584      595\n",
      "астрономия      0           9         0        9\n",
      "политика        0           0       375      375\n",
      "__all__         0          20       959      979), ('overall', OrderedDict([('Accuracy', 0.3922369765066394), ('95% CI', (0.36150538755873823, 0.4236187734518023)), ('No Information Rate', 'ToDo'), ('P-Value [Acc > NIR]', 0.9999999999999999), ('Kappa', 0.02694625782612471), (\"Mcnemar's Test P-Value\", 'ToDo')])), ('class', Classes                                   other  астрономия   политика\n",
      "Population                                  979         979        979\n",
      "P: Condition positive                       595           9        375\n",
      "N: Condition negative                       384         970        604\n",
      "Test outcome positive                         0          20        959\n",
      "Test outcome negative                       979         959         20\n",
      "TP: True Positive                             0           9        375\n",
      "TN: True Negative                           384         959         20\n",
      "FP: False Positive                            0          11        584\n",
      "FN: False Negative                          595           0          0\n",
      "TPR: (Sensitivity, hit rate, recall)          0           1          1\n",
      "TNR=SPC: (Specificity)                        1     0.98866  0.0331126\n",
      "PPV: Pos Pred Value (Precision)             NaN        0.45   0.391032\n",
      "NPV: Neg Pred Value                    0.392237           1          1\n",
      "FPR: False-out                                0   0.0113402   0.966887\n",
      "FDR: False Discovery Rate                   NaN        0.55   0.608968\n",
      "FNR: Miss Rate                                1           0          0\n",
      "ACC: Accuracy                          0.392237    0.988764   0.403473\n",
      "F1 score                                      0     0.62069   0.562219\n",
      "MCC: Matthews correlation coefficient       NaN    0.667006    0.11379\n",
      "Informedness                                  0     0.98866  0.0331126\n",
      "Markedness                                  NaN        0.45   0.391032\n",
      "Prevalence                             0.607763  0.00919305   0.383044\n",
      "LR+: Positive likelihood ratio              NaN     88.1818    1.03425\n",
      "LR-: Negative likelihood ratio                1           0          0\n",
      "DOR: Diagnostic odds ratio                  NaN         inf        inf\n",
      "FOR: False omission rate               0.607763           0          0)])\n"
     ]
    },
    {
     "data": {
      "image/png": "[encoded data removed]",
      "text/plain": [
       "<matplotlib.figure.Figure at 0x20e43267780>"
      ]
     },
     "metadata": {},
     "output_type": "display_data"
    },
    {
     "name": "stderr",
     "output_type": "stream",
     "text": [
      "E:\\Anaconda\\lib\\site-packages\\sklearn\\metrics\\classification.py:1135: UndefinedMetricWarning: Precision and F-score are ill-defined and being set to 0.0 in labels with no predicted samples.\n",
      "  'precision', 'predicted', average, warn_for)\n"
     ]
    },
    {
     "name": "stdout",
     "output_type": "stream",
     "text": [
      "             precision    recall  f1-score   support\n",
      "\n",
      "      other       0.00      0.00      0.00       595\n",
      "   политика       0.39      1.00      0.56       375\n",
      " астрономия       0.45      1.00      0.62         9\n",
      "\n",
      "avg / total       0.15      0.39      0.22       979\n",
      "\n",
      "Topic \n",
      " OrderedDict([('cm', Predicted   other  астрономия  политика  __all__\n",
      "Actual                                          \n",
      "other         431           3       161      595\n",
      "астрономия      4           5         0        9\n",
      "политика      140           0       235      375\n",
      "__all__       575           8       396      979), ('overall', OrderedDict([('Accuracy', 0.6853932584269663), ('95% CI', (0.6552692089768317, 0.7143974820575612)), ('No Information Rate', 'ToDo'), ('P-Value [Acc > NIR]', 1.544217953307653e-10), ('Kappa', 0.35534822466990496), (\"Mcnemar's Test P-Value\", 'ToDo')])), ('class', Classes                                   other  астрономия  политика\n",
      "Population                                  979         979       979\n",
      "P: Condition positive                       595           9       375\n",
      "N: Condition negative                       384         970       604\n",
      "Test outcome positive                       575           8       396\n",
      "Test outcome negative                       404         971       583\n",
      "TP: True Positive                           431           5       235\n",
      "TN: True Negative                           240         967       443\n",
      "FP: False Positive                          144           3       161\n",
      "FN: False Negative                          164           4       140\n",
      "TPR: (Sensitivity, hit rate, recall)    0.72437    0.555556  0.626667\n",
      "TNR=SPC: (Specificity)                    0.625    0.996907  0.733444\n",
      "PPV: Pos Pred Value (Precision)        0.749565       0.625  0.593434\n",
      "NPV: Neg Pred Value                    0.594059    0.995881  0.759863\n",
      "FPR: False-out                            0.375  0.00309278  0.266556\n",
      "FDR: False Discovery Rate              0.250435       0.375  0.406566\n",
      "FNR: Miss Rate                          0.27563    0.444444  0.373333\n",
      "ACC: Accuracy                          0.685393     0.99285  0.692543\n",
      "F1 score                               0.736752    0.588235  0.609598\n",
      "MCC: Matthews correlation coefficient  0.346485    0.585673  0.356687\n",
      "Informedness                            0.34937    0.552463   0.36011\n",
      "Markedness                             0.343625    0.620881  0.353297\n",
      "Prevalence                             0.607763  0.00919305  0.383044\n",
      "LR+: Positive likelihood ratio          1.93165      179.63   2.35097\n",
      "LR-: Negative likelihood ratio         0.441008    0.445823  0.509014\n",
      "DOR: Diagnostic odds ratio              4.38008     402.917   4.61868\n",
      "FOR: False omission rate               0.405941  0.00411946  0.240137)])\n"
     ]
    },
    {
     "data": {
      "image/png": "[encoded data removed]",
      "text/plain": [
       "<matplotlib.figure.Figure at 0x20e43586748>"
      ]
     },
     "metadata": {},
     "output_type": "display_data"
    },
    {
     "name": "stdout",
     "output_type": "stream",
     "text": [
      "             precision    recall  f1-score   support\n",
      "\n",
      "      other       0.75      0.72      0.74       595\n",
      "   политика       0.59      0.63      0.61       375\n",
      " астрономия       0.62      0.56      0.59         9\n",
      "\n",
      "avg / total       0.69      0.69      0.69       979\n",
      "\n"
     ]
    }
   ],
   "source": [
    "print ('Real Value: \\n', topicValueResult['realTopic'].value_counts())\n",
    "print ('Classification Value: \\n', topicValueResult['className'].value_counts())\n",
    "print ('Topic Model Value: \\n', topicValueResult['topicName'].value_counts())\n",
    "\n",
    "\n",
    "print ('Class \\n', CM2(topicValueResult['realTopic'], topicValueResult['className']).stats())\n",
    "CM2(topicValueResult['realTopic'], topicValueResult['className']).plot(normalized=True)\n",
    "plt.show()\n",
    "print(classification_report(topicValueResult['realTopic'], topicValueResult['className'], labels=['other', 'политика', 'астрономия']))\n",
    "\n",
    "print ('Topic \\n', CM2(topicValueResult['realTopic'], topicValueResult['topicName']).stats())\n",
    "CM2(topicValueResult['realTopic'], topicValueResult['topicName']).plot(normalized=True)\n",
    "plt.show()\n",
    "print(classification_report(topicValueResult['realTopic'], topicValueResult['topicName'], labels=['other', 'политика', 'астрономия']))\n"
   ]
  },
  {
   "cell_type": "code",
   "execution_count": null,
   "metadata": {},
   "outputs": [],
   "source": []
  }
 ],
 "metadata": {
  "kernelspec": {
   "display_name": "Python 3",
   "language": "python",
   "name": "python3"
  },
  "language_info": {
   "codemirror_mode": {
    "name": "ipython",
    "version": 3
   },
   "file_extension": ".py",
   "mimetype": "text/x-python",
   "name": "python",
   "nbconvert_exporter": "python",
   "pygments_lexer": "ipython3",
   "version": "3.6.4"
  }
 },
 "nbformat": 4,
 "nbformat_minor": 2
}
