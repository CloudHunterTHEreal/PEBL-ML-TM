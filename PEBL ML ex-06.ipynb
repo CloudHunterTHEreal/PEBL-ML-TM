{
 "cells": [
  {
   "cell_type": "code",
   "execution_count": 3,
   "metadata": {},
   "outputs": [],
   "source": [
    "import pandas as pd\n",
    "import numpy as np\n",
    "import time\n",
    "from src.peblMl import *\n",
    "from sklearn.feature_extraction.text import TfidfVectorizer\n",
    "from sklearn.linear_model import LogisticRegression\n",
    "from sklearn.metrics import confusion_matrix\n",
    "\n",
    "import matplotlib.pyplot as plt\n",
    "from pandas_ml import ConfusionMatrix as CM2\n",
    "from sklearn.metrics import classification_report"
   ]
  },
  {
   "cell_type": "code",
   "execution_count": 4,
   "metadata": {},
   "outputs": [
    {
     "name": "stdout",
     "output_type": "stream",
     "text": [
      "Train Data: \n",
      " спорт         80\n",
      "астрономия    25\n",
      "Name: topic, dtype: int64\n",
      "Test Data: \n",
      " other         948\n",
      "спорт          22\n",
      "астрономия      9\n",
      "Name: topic, dtype: int64\n",
      "Wall time: 172 ms\n"
     ]
    },
    {
     "name": "stderr",
     "output_type": "stream",
     "text": [
      "E:\\Anaconda\\lib\\site-packages\\ipykernel_launcher.py:3: SettingWithCopyWarning: \n",
      "A value is trying to be set on a copy of a slice from a DataFrame.\n",
      "Try using .loc[row_indexer,col_indexer] = value instead\n",
      "\n",
      "See the caveats in the documentation: http://pandas.pydata.org/pandas-docs/stable/indexing.html#indexing-view-versus-copy\n",
      "  This is separate from the ipykernel package so we can avoid doing imports until\n"
     ]
    }
   ],
   "source": [
    "%%time\n",
    "data_start=pd.read_pickle('data/wikiNews.pkl')\n",
    "data_noise=data_start[data_start['topic'].isin(['политика', 'россия', 'европа', 'футбол' ])]\n",
    "data_noise['topic']='other'\n",
    "data_sport=data_start[data_start['topic'].isin(['спорт'])]\n",
    "data_space=data_start[data_start['topic'].isin(['астрономия'])]\n",
    "data_test=data_noise\n",
    "data_test=data_test.append(data_sport[80:])\n",
    "data_test=data_test.append(data_space[25:])\n",
    "data_train=data_sport[:80]\n",
    "data_train=data_train.append(data_space[:25])\n",
    "print ('Train Data: \\n', data_train['topic'].value_counts())\n",
    "print ('Test Data: \\n', data_test['topic'].value_counts())"
   ]
  },
  {
   "cell_type": "code",
   "execution_count": 5,
   "metadata": {},
   "outputs": [
    {
     "name": "stderr",
     "output_type": "stream",
     "text": [
      "E:\\Anaconda\\lib\\site-packages\\sklearn\\linear_model\\logistic.py:1228: UserWarning: 'n_jobs' > 1 does not have any effect when 'solver' is set to 'liblinear'. Got 'n_jobs' = -1.\n",
      "  \" = {}.\".format(self.n_jobs))\n"
     ]
    },
    {
     "name": "stdout",
     "output_type": "stream",
     "text": [
      "Wall time: 4.85 s\n"
     ]
    }
   ],
   "source": [
    "%%time\n",
    "modelML=peblMl()\n",
    "modelML.fit(data_train['Noun'].tolist(), data_train['topic'].tolist())\n",
    "vectorizer = TfidfVectorizer(min_df=1)\n",
    "clf = LogisticRegression(C=535, class_weight=None, dual=False, fit_intercept=True,\n",
    "          intercept_scaling=1, max_iter=100, multi_class='ovr', n_jobs=-1,\n",
    "          penalty='l2', random_state=None, solver='liblinear', tol=0.001,\n",
    "          verbose=0, warm_start=False)\n",
    "vectorizer_model = vectorizer.fit(data_train['Noun'].tolist())\n",
    "vectors = vectorizer.transform(data_train['Noun'].tolist())\n",
    "clf.fit(vectors, data_train['topic'].tolist())\n",
    "\n",
    "topicValueResult=pd.DataFrame(columns=['topicName', 'probValue', 'realTopic', 'className'])\n",
    "goodT=0\n",
    "wrongT=0\n",
    "i=0\n",
    "for testRow in data_test['Noun'].tolist():\n",
    "    result=modelML.predict(testRow, 'other')[:1]\n",
    "    topicValueResult=topicValueResult.append({'topicName': result.index[0], 'probValue': result.values[0], \n",
    "                                             'realTopic': data_test['topic'][i], 'className': clf.predict(vectorizer.transform([testRow]))[0].tolist()}, ignore_index=True)\n",
    "    if result.index[0]!='other' and data_test['topic'][i]!='other':\n",
    "        #print (result.index[0], result.values[0], data_test['topic'][i])\n",
    "        goodT+=1\n",
    "    if data_test['topic'][i]!='other' and result.index[0]=='other':\n",
    "        wrongT+=1\n",
    "    i+=1\n",
    "\n"
   ]
  },
  {
   "cell_type": "code",
   "execution_count": 6,
   "metadata": {
    "scrolled": false
   },
   "outputs": [
    {
     "name": "stdout",
     "output_type": "stream",
     "text": [
      "Real Value: \n",
      " other         948\n",
      "спорт          22\n",
      "астрономия      9\n",
      "Name: realTopic, dtype: int64\n",
      "Classification Value: \n",
      " спорт         970\n",
      "астрономия      9\n",
      "Name: className, dtype: int64\n",
      "Topic Model Value: \n",
      " other         520\n",
      "спорт         452\n",
      "астрономия      7\n",
      "Name: topicName, dtype: int64\n",
      "Class \n",
      " OrderedDict([('cm', Predicted   other  астрономия  спорт  __all__\n",
      "Actual                                       \n",
      "other           0           3    945      948\n",
      "астрономия      0           6      3        9\n",
      "спорт           0           0     22       22\n",
      "__all__         0           9    970      979), ('overall', OrderedDict([('Accuracy', 0.028600612870275793), ('95% CI', (0.019087227974385407, 0.041071959262612756)), ('No Information Rate', 'ToDo'), ('P-Value [Acc > NIR]', 0.9999999999999999), ('Kappa', 0.006393673560863163), (\"Mcnemar's Test P-Value\", 'ToDo')])), ('class', Classes                                   other  астрономия       спорт\n",
      "Population                                  979         979         979\n",
      "P: Condition positive                       948           9          22\n",
      "N: Condition negative                        31         970         957\n",
      "Test outcome positive                         0           9         970\n",
      "Test outcome negative                       979         970           9\n",
      "TP: True Positive                             0           6          22\n",
      "TN: True Negative                            31         967           9\n",
      "FP: False Positive                            0           3         948\n",
      "FN: False Negative                          948           3           0\n",
      "TPR: (Sensitivity, hit rate, recall)          0    0.666667           1\n",
      "TNR=SPC: (Specificity)                        1    0.996907  0.00940439\n",
      "PPV: Pos Pred Value (Precision)             NaN    0.666667   0.0226804\n",
      "NPV: Neg Pred Value                    0.031665    0.996907           1\n",
      "FPR: False-out                                0  0.00309278    0.990596\n",
      "FDR: False Discovery Rate                   NaN    0.333333     0.97732\n",
      "FNR: Miss Rate                                1    0.333333           0\n",
      "ACC: Accuracy                          0.031665    0.993871    0.031665\n",
      "F1 score                                      0    0.666667   0.0443548\n",
      "MCC: Matthews correlation coefficient       NaN    0.663574   0.0146046\n",
      "Informedness                                  0    0.663574  0.00940439\n",
      "Markedness                                  NaN    0.663574   0.0226804\n",
      "Prevalence                             0.968335  0.00919305   0.0224719\n",
      "LR+: Positive likelihood ratio              NaN     215.556     1.00949\n",
      "LR-: Negative likelihood ratio                1    0.334367           0\n",
      "DOR: Diagnostic odds ratio                  NaN     644.667         inf\n",
      "FOR: False omission rate               0.968335  0.00309278           0)])\n"
     ]
    },
    {
     "name": "stderr",
     "output_type": "stream",
     "text": [
      "E:\\Anaconda\\lib\\site-packages\\pandas_ml\\confusion_matrix\\abstract.py:66: FutureWarning: \n",
      "Passing list-likes to .loc or [] with any missing label will raise\n",
      "KeyError in the future, you can use .reindex() as an alternative.\n",
      "\n",
      "See the documentation here:\n",
      "http://pandas.pydata.org/pandas-docs/stable/indexing.html#deprecate-loc-reindex-listlike\n",
      "  df = df.loc[idx, idx.copy()].fillna(0)  # if some columns or rows are missing\n",
      "E:\\Anaconda\\lib\\site-packages\\pandas_ml\\confusion_matrix\\bcm.py:236: RuntimeWarning: invalid value encountered in double_scalars\n",
      "  return(np.float64(self.TP) / self.PositiveTest)\n",
      "E:\\Anaconda\\lib\\site-packages\\pandas_ml\\confusion_matrix\\bcm.py:267: RuntimeWarning: invalid value encountered in double_scalars\n",
      "  return(np.float64(self.FP) / self.PositiveTest)\n",
      "E:\\Anaconda\\lib\\site-packages\\pandas_ml\\confusion_matrix\\bcm.py:302: RuntimeWarning: invalid value encountered in true_divide\n",
      "  * (self.TN + self.FP) * (self.TN + self.FN)))\n",
      "E:\\Anaconda\\lib\\site-packages\\pandas_ml\\confusion_matrix\\bcm.py:330: RuntimeWarning: invalid value encountered in double_scalars\n",
      "  return(np.float64(self.TPR) / self.FPR)\n",
      "E:\\Anaconda\\lib\\site-packages\\pandas_ml\\confusion_matrix\\bcm.py:344: RuntimeWarning: divide by zero encountered in double_scalars\n",
      "  return(np.float64(self.LRP) / self.LRN)\n"
     ]
    },
    {
     "data": {
      "image/png": "[encoded data removed]",
      "text/plain": [
       "<matplotlib.figure.Figure at 0x13e5c4aa550>"
      ]
     },
     "metadata": {},
     "output_type": "display_data"
    },
    {
     "name": "stderr",
     "output_type": "stream",
     "text": [
      "E:\\Anaconda\\lib\\site-packages\\sklearn\\metrics\\classification.py:1135: UndefinedMetricWarning: Precision and F-score are ill-defined and being set to 0.0 in labels with no predicted samples.\n",
      "  'precision', 'predicted', average, warn_for)\n"
     ]
    },
    {
     "name": "stdout",
     "output_type": "stream",
     "text": [
      "             precision    recall  f1-score   support\n",
      "\n",
      "      other       0.00      0.00      0.00       948\n",
      " астрономия       0.67      0.67      0.67         9\n",
      "      спорт       0.02      1.00      0.04        22\n",
      "\n",
      "avg / total       0.01      0.03      0.01       979\n",
      "\n",
      "Topic \n",
      " OrderedDict([('cm', Predicted   other  астрономия  спорт  __all__\n",
      "Actual                                       \n",
      "other         506           1    441      948\n",
      "астрономия      2           6      1        9\n",
      "спорт          12           0     10       22\n",
      "__all__       520           7    452      979), ('overall', OrderedDict([('Accuracy', 0.533197139938713), ('95% CI', (0.501375080791139, 0.5648189888595678)), ('No Information Rate', 'ToDo'), ('P-Value [Acc > NIR]', 0.4619986906973411), ('Kappa', 0.017720001580770722), (\"Mcnemar's Test P-Value\", 'ToDo')])), ('class', Classes                                    other  астрономия        спорт\n",
      "Population                                   979         979          979\n",
      "P: Condition positive                        948           9           22\n",
      "N: Condition negative                         31         970          957\n",
      "Test outcome positive                        520           7          452\n",
      "Test outcome negative                        459         972          527\n",
      "TP: True Positive                            506           6           10\n",
      "TN: True Negative                             17         969          515\n",
      "FP: False Positive                            14           1          442\n",
      "FN: False Negative                           442           3           12\n",
      "TPR: (Sensitivity, hit rate, recall)    0.533755    0.666667     0.454545\n",
      "TNR=SPC: (Specificity)                  0.548387    0.998969      0.53814\n",
      "PPV: Pos Pred Value (Precision)         0.973077    0.857143    0.0221239\n",
      "NPV: Neg Pred Value                     0.037037    0.996914      0.97723\n",
      "FPR: False-out                          0.451613  0.00103093      0.46186\n",
      "FDR: False Discovery Rate              0.0269231    0.142857     0.977876\n",
      "FNR: Miss Rate                          0.466245    0.333333     0.545455\n",
      "ACC: Accuracy                           0.534219    0.995914     0.536261\n",
      "F1 score                                0.689373        0.75    0.0421941\n",
      "MCC: Matthews correlation coefficient  0.0288233    0.753983   -0.0021746\n",
      "Informedness                           0.0821424    0.665636  -0.00731452\n",
      "Markedness                              0.010114    0.854056 -0.000646505\n",
      "Prevalence                              0.968335  0.00919305    0.0224719\n",
      "LR+: Positive likelihood ratio           1.18189     646.667     0.984163\n",
      "LR-: Negative likelihood ratio          0.850211    0.333677      1.01359\n",
      "DOR: Diagnostic odds ratio               1.39011        1938     0.970965\n",
      "FOR: False omission rate                0.962963  0.00308642    0.0227704)])\n"
     ]
    },
    {
     "data": {
      "image/png": "[encoded data removed]",
      "text/plain": [
       "<matplotlib.figure.Figure at 0x13e5c854860>"
      ]
     },
     "metadata": {},
     "output_type": "display_data"
    },
    {
     "name": "stdout",
     "output_type": "stream",
     "text": [
      "             precision    recall  f1-score   support\n",
      "\n",
      "      other       0.97      0.53      0.69       948\n",
      " астрономия       0.86      0.67      0.75         9\n",
      "      спорт       0.02      0.45      0.04        22\n",
      "\n",
      "avg / total       0.95      0.53      0.68       979\n",
      "\n"
     ]
    }
   ],
   "source": [
    "print ('Real Value: \\n', topicValueResult['realTopic'].value_counts())\n",
    "print ('Classification Value: \\n', topicValueResult['className'].value_counts())\n",
    "print ('Topic Model Value: \\n', topicValueResult['topicName'].value_counts())\n",
    "\n",
    "\n",
    "print ('Class \\n', CM2(topicValueResult['realTopic'], topicValueResult['className']).stats())\n",
    "CM2(topicValueResult['realTopic'], topicValueResult['className']).plot(normalized=True)\n",
    "plt.show()\n",
    "print(classification_report(topicValueResult['realTopic'], topicValueResult['className'], labels=['other', 'астрономия', 'спорт']))\n",
    "\n",
    "print ('Topic \\n', CM2(topicValueResult['realTopic'], topicValueResult['topicName']).stats())\n",
    "CM2(topicValueResult['realTopic'], topicValueResult['topicName']).plot(normalized=True)\n",
    "plt.show()\n",
    "print(classification_report(topicValueResult['realTopic'], topicValueResult['topicName'], labels=['other', 'астрономия', 'спорт']))\n"
   ]
  },
  {
   "cell_type": "code",
   "execution_count": null,
   "metadata": {},
   "outputs": [],
   "source": []
  }
 ],
 "metadata": {
  "kernelspec": {
   "display_name": "Python 3",
   "language": "python",
   "name": "python3"
  },
  "language_info": {
   "codemirror_mode": {
    "name": "ipython",
    "version": 3
   },
   "file_extension": ".py",
   "mimetype": "text/x-python",
   "name": "python",
   "nbconvert_exporter": "python",
   "pygments_lexer": "ipython3",
   "version": "3.6.4"
  }
 },
 "nbformat": 4,
 "nbformat_minor": 2
}
